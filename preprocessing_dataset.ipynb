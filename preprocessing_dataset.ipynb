{
 "cells": [
  {
   "cell_type": "markdown",
   "id": "icCUcK9GQq9d",
   "metadata": {
    "id": "icCUcK9GQq9d"
   },
   "source": [
    "<a id=\"1\"></a>\n",
    "# <p style=\"background-color:#034C53;font-family:newtimeroman;color:#FFF9ED;font-size:130%;text-align:center;border-radius:10px 10px;\">LIBRARIES/PACKAGE</p>"
   ]
  },
  {
   "cell_type": "code",
   "execution_count": 1,
   "id": "8f00ad21",
   "metadata": {
    "id": "8f00ad21"
   },
   "outputs": [
    {
     "name": "stderr",
     "output_type": "stream",
     "text": [
      "[nltk_data] Downloading package stopwords to\n",
      "[nltk_data]     C:\\Users\\DHIMAS\\AppData\\Roaming\\nltk_data...\n",
      "[nltk_data]   Package stopwords is already up-to-date!\n"
     ]
    }
   ],
   "source": [
    "import pandas as pd\n",
    "from MyTextPreprocessor import TextPreprocessor"
   ]
  },
  {
   "cell_type": "markdown",
   "id": "16Rgi_Gyer31",
   "metadata": {
    "id": "16Rgi_Gyer31"
   },
   "source": [
    "<a id=\"2\"></a>\n",
    "# <p style=\"background-color:#034C53;font-family:newtimeroman;color:#FFF9ED;font-size:130%;text-align:center;border-radius:10px 10px;\">SMS BAHASA INDONESIA</p>"
   ]
  },
  {
   "cell_type": "markdown",
   "id": "k-FFGu_ngcU4",
   "metadata": {
    "id": "k-FFGu_ngcU4"
   },
   "source": [
    "<a id=\"2\"></a>\n",
    "## <p style=\"background-color:#034C53;font-family:newtimeroman;color:#FFF9ED;font-size:110%;text-align:center;border-radius:10px 10px;\">DATASET PERTAMA</p>"
   ]
  },
  {
   "cell_type": "markdown",
   "id": "SsTVev_Wer32",
   "metadata": {
    "id": "SsTVev_Wer32"
   },
   "source": [
    "Baca Dataset"
   ]
  },
  {
   "cell_type": "code",
   "execution_count": 2,
   "id": "PCarsyf8er34",
   "metadata": {
    "colab": {
     "base_uri": "https://localhost:8080/",
     "height": 424
    },
    "executionInfo": {
     "elapsed": 204,
     "status": "ok",
     "timestamp": 1749097528863,
     "user": {
      "displayName": "Dimas Rahman",
      "userId": "00422741092376175942"
     },
     "user_tz": -420
    },
    "id": "PCarsyf8er34",
    "outputId": "f09d01f9-4bb5-435a-d2d4-c2fb4e25e747"
   },
   "outputs": [
    {
     "data": {
      "text/html": [
       "<div>\n",
       "<style scoped>\n",
       "    .dataframe tbody tr th:only-of-type {\n",
       "        vertical-align: middle;\n",
       "    }\n",
       "\n",
       "    .dataframe tbody tr th {\n",
       "        vertical-align: top;\n",
       "    }\n",
       "\n",
       "    .dataframe thead th {\n",
       "        text-align: right;\n",
       "    }\n",
       "</style>\n",
       "<table border=\"1\" class=\"dataframe\">\n",
       "  <thead>\n",
       "    <tr style=\"text-align: right;\">\n",
       "      <th></th>\n",
       "      <th>Teks</th>\n",
       "      <th>label</th>\n",
       "    </tr>\n",
       "  </thead>\n",
       "  <tbody>\n",
       "    <tr>\n",
       "      <th>0</th>\n",
       "      <td>[PROMO] Beli paket Flash mulai 1GB di MY TELKO...</td>\n",
       "      <td>2</td>\n",
       "    </tr>\n",
       "    <tr>\n",
       "      <th>1</th>\n",
       "      <td>2.5 GB/30 hari hanya Rp 35 Ribu Spesial buat A...</td>\n",
       "      <td>2</td>\n",
       "    </tr>\n",
       "    <tr>\n",
       "      <th>2</th>\n",
       "      <td>2016-07-08 11:47:11.Plg Yth, sisa kuota Flash ...</td>\n",
       "      <td>2</td>\n",
       "    </tr>\n",
       "    <tr>\n",
       "      <th>3</th>\n",
       "      <td>2016-08-07 11:29:47.Plg Yth, sisa kuota Flash ...</td>\n",
       "      <td>2</td>\n",
       "    </tr>\n",
       "    <tr>\n",
       "      <th>4</th>\n",
       "      <td>4.5GB/30 hari hanya Rp 55 Ribu Spesial buat an...</td>\n",
       "      <td>2</td>\n",
       "    </tr>\n",
       "    <tr>\n",
       "      <th>...</th>\n",
       "      <td>...</td>\n",
       "      <td>...</td>\n",
       "    </tr>\n",
       "    <tr>\n",
       "      <th>1138</th>\n",
       "      <td>Yooo sama2, oke nanti aku umumin di grup kelas</td>\n",
       "      <td>0</td>\n",
       "    </tr>\n",
       "    <tr>\n",
       "      <th>1139</th>\n",
       "      <td>😁 sebelumnya ga ad nulis kerudung. Kirain warn...</td>\n",
       "      <td>0</td>\n",
       "    </tr>\n",
       "    <tr>\n",
       "      <th>1140</th>\n",
       "      <td>Mba mau kirim 300 ya</td>\n",
       "      <td>0</td>\n",
       "    </tr>\n",
       "    <tr>\n",
       "      <th>1141</th>\n",
       "      <td>nama1  beaok bwrangkat pagi...mau cas atay tra...</td>\n",
       "      <td>0</td>\n",
       "    </tr>\n",
       "    <tr>\n",
       "      <th>1142</th>\n",
       "      <td>No bri atas nama kamu mana</td>\n",
       "      <td>0</td>\n",
       "    </tr>\n",
       "  </tbody>\n",
       "</table>\n",
       "<p>1143 rows × 2 columns</p>\n",
       "</div>"
      ],
      "text/plain": [
       "                                                   Teks  label\n",
       "0     [PROMO] Beli paket Flash mulai 1GB di MY TELKO...      2\n",
       "1     2.5 GB/30 hari hanya Rp 35 Ribu Spesial buat A...      2\n",
       "2     2016-07-08 11:47:11.Plg Yth, sisa kuota Flash ...      2\n",
       "3     2016-08-07 11:29:47.Plg Yth, sisa kuota Flash ...      2\n",
       "4     4.5GB/30 hari hanya Rp 55 Ribu Spesial buat an...      2\n",
       "...                                                 ...    ...\n",
       "1138     Yooo sama2, oke nanti aku umumin di grup kelas      0\n",
       "1139  😁 sebelumnya ga ad nulis kerudung. Kirain warn...      0\n",
       "1140                               Mba mau kirim 300 ya      0\n",
       "1141  nama1  beaok bwrangkat pagi...mau cas atay tra...      0\n",
       "1142                         No bri atas nama kamu mana      0\n",
       "\n",
       "[1143 rows x 2 columns]"
      ]
     },
     "execution_count": 2,
     "metadata": {},
     "output_type": "execute_result"
    }
   ],
   "source": [
    "df_indo1 = pd.read_csv('./dataset/dataset_sms_spam_v1.csv')\n",
    "df_indo1"
   ]
  },
  {
   "cell_type": "markdown",
   "id": "qs4__tbuJL3D",
   "metadata": {
    "id": "qs4__tbuJL3D"
   },
   "source": [
    "Cek dan Hapus missing value"
   ]
  },
  {
   "cell_type": "code",
   "execution_count": 3,
   "id": "Y87IjkcNJSCf",
   "metadata": {
    "colab": {
     "base_uri": "https://localhost:8080/"
    },
    "executionInfo": {
     "elapsed": 102,
     "status": "ok",
     "timestamp": 1749097528866,
     "user": {
      "displayName": "Dimas Rahman",
      "userId": "00422741092376175942"
     },
     "user_tz": -420
    },
    "id": "Y87IjkcNJSCf",
    "outputId": "763c64ad-25de-454c-9ba5-a7bbcc1df158"
   },
   "outputs": [
    {
     "name": "stdout",
     "output_type": "stream",
     "text": [
      "Missing value:\n",
      "\n",
      "Teks     0\n",
      "label    0\n",
      "dtype: int64\n",
      "\n",
      "telah berhasil dihapus\n"
     ]
    }
   ],
   "source": [
    "print(f'Missing value:\\n\\n{df_indo1.isna().sum()}')\n",
    "df_indo1 = df_indo1.dropna()\n",
    "print('\\ntelah berhasil dihapus')"
   ]
  },
  {
   "cell_type": "markdown",
   "id": "gkEaieJEVIvh",
   "metadata": {
    "id": "gkEaieJEVIvh"
   },
   "source": [
    "Cek dan Hapus duplikat"
   ]
  },
  {
   "cell_type": "code",
   "execution_count": 4,
   "id": "bnfcQQWnVIvi",
   "metadata": {
    "colab": {
     "base_uri": "https://localhost:8080/"
    },
    "executionInfo": {
     "elapsed": 48,
     "status": "ok",
     "timestamp": 1749097528904,
     "user": {
      "displayName": "Dimas Rahman",
      "userId": "00422741092376175942"
     },
     "user_tz": -420
    },
    "id": "bnfcQQWnVIvi",
    "outputId": "07024b1c-5668-4d14-a5cf-9a4a5f77fa09"
   },
   "outputs": [
    {
     "name": "stdout",
     "output_type": "stream",
     "text": [
      "Baris duplikat = 1\n",
      "telah berhasil dihapus\n"
     ]
    }
   ],
   "source": [
    "print(f'Baris duplikat = {df_indo1.duplicated().sum()}')\n",
    "df_indo1 = df_indo1.drop_duplicates()\n",
    "print('telah berhasil dihapus')"
   ]
  },
  {
   "cell_type": "markdown",
   "id": "veGIk2VcDI10",
   "metadata": {
    "id": "veGIk2VcDI10"
   },
   "source": [
    "Ganti nama kolom"
   ]
  },
  {
   "cell_type": "code",
   "execution_count": 5,
   "id": "16n_k5_gDI12",
   "metadata": {
    "id": "16n_k5_gDI12"
   },
   "outputs": [],
   "source": [
    "df_indo1 = df_indo1.rename(columns={'Teks': 'Message'})"
   ]
  },
  {
   "cell_type": "markdown",
   "id": "VJPm4rXAPmPO",
   "metadata": {
    "id": "VJPm4rXAPmPO"
   },
   "source": [
    "Tukar posisi kolom"
   ]
  },
  {
   "cell_type": "code",
   "execution_count": 6,
   "id": "3_JvLFCSPnsu",
   "metadata": {
    "id": "3_JvLFCSPnsu"
   },
   "outputs": [],
   "source": [
    "df_indo1 = df_indo1[['label', 'Message']]"
   ]
  },
  {
   "cell_type": "markdown",
   "id": "RNGcm8yff_gz",
   "metadata": {
    "id": "RNGcm8yff_gz"
   },
   "source": [
    "Isi dari kolom label"
   ]
  },
  {
   "cell_type": "code",
   "execution_count": 7,
   "id": "2YMk4l2VgGNC",
   "metadata": {
    "colab": {
     "base_uri": "https://localhost:8080/",
     "height": 210
    },
    "executionInfo": {
     "elapsed": 137,
     "status": "ok",
     "timestamp": 1749097529037,
     "user": {
      "displayName": "Dimas Rahman",
      "userId": "00422741092376175942"
     },
     "user_tz": -420
    },
    "id": "2YMk4l2VgGNC",
    "outputId": "2fad3439-3f06-4ca6-debe-7c6b88aa69d2"
   },
   "outputs": [
    {
     "data": {
      "text/plain": [
       "label\n",
       "0    568\n",
       "1    335\n",
       "2    239\n",
       "Name: count, dtype: int64"
      ]
     },
     "execution_count": 7,
     "metadata": {},
     "output_type": "execute_result"
    }
   ],
   "source": [
    "df_indo1['label'].value_counts()"
   ]
  },
  {
   "cell_type": "markdown",
   "id": "nx4IfPAYP_tH",
   "metadata": {
    "id": "nx4IfPAYP_tH"
   },
   "source": [
    "Hapus baris dengan label = 2 (SMS Promo)"
   ]
  },
  {
   "cell_type": "code",
   "execution_count": 8,
   "id": "dVW869nNP8Fu",
   "metadata": {
    "id": "dVW869nNP8Fu"
   },
   "outputs": [],
   "source": [
    "df_indo1 = df_indo1[df_indo1['label'] != 2]"
   ]
  },
  {
   "cell_type": "markdown",
   "id": "GA89kj3EVhD8",
   "metadata": {
    "id": "GA89kj3EVhD8"
   },
   "source": [
    "Isi dari kolom label"
   ]
  },
  {
   "cell_type": "code",
   "execution_count": 9,
   "id": "_uzbDxwJVhD-",
   "metadata": {
    "colab": {
     "base_uri": "https://localhost:8080/",
     "height": 178
    },
    "executionInfo": {
     "elapsed": 159,
     "status": "ok",
     "timestamp": 1749097529218,
     "user": {
      "displayName": "Dimas Rahman",
      "userId": "00422741092376175942"
     },
     "user_tz": -420
    },
    "id": "_uzbDxwJVhD-",
    "outputId": "42a2afbf-4568-451d-be41-aba732e63e15"
   },
   "outputs": [
    {
     "data": {
      "text/plain": [
       "label\n",
       "0    568\n",
       "1    335\n",
       "Name: count, dtype: int64"
      ]
     },
     "execution_count": 9,
     "metadata": {},
     "output_type": "execute_result"
    }
   ],
   "source": [
    "df_indo1['label'].value_counts()"
   ]
  },
  {
   "cell_type": "markdown",
   "id": "USleV0muh90y",
   "metadata": {
    "id": "USleV0muh90y"
   },
   "source": [
    "<a id=\"2\"></a>\n",
    "## <p style=\"background-color:#034C53;font-family:newtimeroman;color:#FFF9ED;font-size:110%;text-align:center;border-radius:10px 10px;\">DATASET KEDUA</p>"
   ]
  },
  {
   "cell_type": "markdown",
   "id": "Jr6FHvwHh90z",
   "metadata": {
    "id": "Jr6FHvwHh90z"
   },
   "source": [
    "Baca Dataset"
   ]
  },
  {
   "cell_type": "code",
   "execution_count": 10,
   "id": "10eE6CEhh90z",
   "metadata": {
    "colab": {
     "base_uri": "https://localhost:8080/",
     "height": 424
    },
    "executionInfo": {
     "elapsed": 126,
     "status": "ok",
     "timestamp": 1749097589923,
     "user": {
      "displayName": "Dimas Rahman",
      "userId": "00422741092376175942"
     },
     "user_tz": -420
    },
    "id": "10eE6CEhh90z",
    "outputId": "930947f8-bfab-4cc1-cbc8-331afd4d17fa"
   },
   "outputs": [
    {
     "data": {
      "text/html": [
       "<div>\n",
       "<style scoped>\n",
       "    .dataframe tbody tr th:only-of-type {\n",
       "        vertical-align: middle;\n",
       "    }\n",
       "\n",
       "    .dataframe tbody tr th {\n",
       "        vertical-align: top;\n",
       "    }\n",
       "\n",
       "    .dataframe thead th {\n",
       "        text-align: right;\n",
       "    }\n",
       "</style>\n",
       "<table border=\"1\" class=\"dataframe\">\n",
       "  <thead>\n",
       "    <tr style=\"text-align: right;\">\n",
       "      <th></th>\n",
       "      <th>Kategori</th>\n",
       "      <th>Pesan</th>\n",
       "    </tr>\n",
       "  </thead>\n",
       "  <tbody>\n",
       "    <tr>\n",
       "      <th>0</th>\n",
       "      <td>Spam</td>\n",
       "      <td>(Bank Granit menerbitkan Strong-Buy) PILIHAN E...</td>\n",
       "    </tr>\n",
       "    <tr>\n",
       "      <th>1</th>\n",
       "      <td>ham</td>\n",
       "      <td>(Saya harus menambahkan bahwa saya tidak terla...</td>\n",
       "    </tr>\n",
       "    <tr>\n",
       "      <th>2</th>\n",
       "      <td>ham</td>\n",
       "      <td>(Yang mengatakan, bisakah Anda mengirim sms ke...</td>\n",
       "    </tr>\n",
       "    <tr>\n",
       "      <th>3</th>\n",
       "      <td>Spam</td>\n",
       "      <td>* GRATIS * POLIFONIK RINGTONE Teks SUPER ke 87...</td>\n",
       "    </tr>\n",
       "    <tr>\n",
       "      <th>4</th>\n",
       "      <td>Spam</td>\n",
       "      <td>**PESAN GRATIS**Terima kasih telah menggunakan...</td>\n",
       "    </tr>\n",
       "    <tr>\n",
       "      <th>...</th>\n",
       "      <td>...</td>\n",
       "      <td>...</td>\n",
       "    </tr>\n",
       "    <tr>\n",
       "      <th>2040</th>\n",
       "      <td>ham</td>\n",
       "      <td>Yup, tidak perlu. Aku akan jus menunggu 4 e hu...</td>\n",
       "    </tr>\n",
       "    <tr>\n",
       "      <th>2041</th>\n",
       "      <td>ham</td>\n",
       "      <td>Yup... Dari apa yang saya remb... Saya pikir s...</td>\n",
       "    </tr>\n",
       "    <tr>\n",
       "      <th>2042</th>\n",
       "      <td>ham</td>\n",
       "      <td>Yup... Bagaimana Ã 1/4 noe leh ...</td>\n",
       "    </tr>\n",
       "    <tr>\n",
       "      <th>2043</th>\n",
       "      <td>ham</td>\n",
       "      <td>Yup... Ok i go home melihat timing maka saya m...</td>\n",
       "    </tr>\n",
       "    <tr>\n",
       "      <th>2044</th>\n",
       "      <td>ham</td>\n",
       "      <td>ZOE ITU BARU SAJA MEMUKULKU 2 IM FUCKING SHITI...</td>\n",
       "    </tr>\n",
       "  </tbody>\n",
       "</table>\n",
       "<p>2045 rows × 2 columns</p>\n",
       "</div>"
      ],
      "text/plain": [
       "     Kategori                                              Pesan\n",
       "0        Spam  (Bank Granit menerbitkan Strong-Buy) PILIHAN E...\n",
       "1         ham  (Saya harus menambahkan bahwa saya tidak terla...\n",
       "2         ham  (Yang mengatakan, bisakah Anda mengirim sms ke...\n",
       "3        Spam  * GRATIS * POLIFONIK RINGTONE Teks SUPER ke 87...\n",
       "4        Spam  **PESAN GRATIS**Terima kasih telah menggunakan...\n",
       "...       ...                                                ...\n",
       "2040      ham  Yup, tidak perlu. Aku akan jus menunggu 4 e hu...\n",
       "2041      ham  Yup... Dari apa yang saya remb... Saya pikir s...\n",
       "2042      ham                 Yup... Bagaimana Ã 1/4 noe leh ...\n",
       "2043      ham  Yup... Ok i go home melihat timing maka saya m...\n",
       "2044      ham  ZOE ITU BARU SAJA MEMUKULKU 2 IM FUCKING SHITI...\n",
       "\n",
       "[2045 rows x 2 columns]"
      ]
     },
     "execution_count": 10,
     "metadata": {},
     "output_type": "execute_result"
    }
   ],
   "source": [
    "df_indo2 = pd.read_csv('./dataset/indo_spam.csv')\n",
    "df_indo2"
   ]
  },
  {
   "cell_type": "markdown",
   "id": "-2zlvxHVOeBF",
   "metadata": {
    "id": "-2zlvxHVOeBF"
   },
   "source": [
    "Cek dan Hapus missing value"
   ]
  },
  {
   "cell_type": "code",
   "execution_count": 11,
   "id": "Sl2bNNWVOeBJ",
   "metadata": {
    "colab": {
     "base_uri": "https://localhost:8080/"
    },
    "executionInfo": {
     "elapsed": 89,
     "status": "ok",
     "timestamp": 1749097590019,
     "user": {
      "displayName": "Dimas Rahman",
      "userId": "00422741092376175942"
     },
     "user_tz": -420
    },
    "id": "Sl2bNNWVOeBJ",
    "outputId": "6c3cf206-9425-4867-fd4f-de8e89453bd2"
   },
   "outputs": [
    {
     "name": "stdout",
     "output_type": "stream",
     "text": [
      "Missing value:\n",
      "\n",
      "Kategori    0\n",
      "Pesan       0\n",
      "dtype: int64\n",
      "\n",
      "telah berhasil dihapus\n"
     ]
    }
   ],
   "source": [
    "print(f'Missing value:\\n\\n{df_indo2.isna().sum()}')\n",
    "df_indo2 = df_indo2.dropna()\n",
    "print('\\ntelah berhasil dihapus')"
   ]
  },
  {
   "cell_type": "markdown",
   "id": "RlGApY8DVYGN",
   "metadata": {
    "id": "RlGApY8DVYGN"
   },
   "source": [
    "Cek dan Hapus duplikat"
   ]
  },
  {
   "cell_type": "code",
   "execution_count": 12,
   "id": "kgMbVnBDVYGP",
   "metadata": {
    "colab": {
     "base_uri": "https://localhost:8080/"
    },
    "executionInfo": {
     "elapsed": 66,
     "status": "ok",
     "timestamp": 1749097590102,
     "user": {
      "displayName": "Dimas Rahman",
      "userId": "00422741092376175942"
     },
     "user_tz": -420
    },
    "id": "kgMbVnBDVYGP",
    "outputId": "947ec4c6-52eb-4fcc-c126-5559dd3cebb0"
   },
   "outputs": [
    {
     "name": "stdout",
     "output_type": "stream",
     "text": [
      "Baris duplikat = 147\n",
      "telah berhasil dihapus\n"
     ]
    }
   ],
   "source": [
    "print(f'Baris duplikat = {df_indo2.duplicated().sum()}')\n",
    "df_indo2 = df_indo2.drop_duplicates()\n",
    "print('telah berhasil dihapus')"
   ]
  },
  {
   "cell_type": "markdown",
   "id": "veGxAUWiisbk",
   "metadata": {
    "id": "veGxAUWiisbk"
   },
   "source": [
    "Ganti nama kolom"
   ]
  },
  {
   "cell_type": "code",
   "execution_count": 13,
   "id": "Kzn3y-hHisbl",
   "metadata": {
    "id": "Kzn3y-hHisbl"
   },
   "outputs": [],
   "source": [
    "df_indo2 = df_indo2.rename(columns={'Kategori': 'label', 'Pesan': 'Message'})"
   ]
  },
  {
   "cell_type": "markdown",
   "id": "hN9Bl0uhVvGz",
   "metadata": {
    "id": "hN9Bl0uhVvGz"
   },
   "source": [
    "Isi dari kolom label"
   ]
  },
  {
   "cell_type": "code",
   "execution_count": 14,
   "id": "CzDqzv46VvG1",
   "metadata": {
    "colab": {
     "base_uri": "https://localhost:8080/",
     "height": 178
    },
    "executionInfo": {
     "elapsed": 61,
     "status": "ok",
     "timestamp": 1749097590220,
     "user": {
      "displayName": "Dimas Rahman",
      "userId": "00422741092376175942"
     },
     "user_tz": -420
    },
    "id": "CzDqzv46VvG1",
    "outputId": "c787f14e-2a4c-4b15-e86a-d405cdcd590d"
   },
   "outputs": [
    {
     "data": {
      "text/plain": [
       "label\n",
       "ham     1260\n",
       "Spam     638\n",
       "Name: count, dtype: int64"
      ]
     },
     "execution_count": 14,
     "metadata": {},
     "output_type": "execute_result"
    }
   ],
   "source": [
    "df_indo2['label'].value_counts()"
   ]
  },
  {
   "cell_type": "markdown",
   "id": "ceuscBtpisbm",
   "metadata": {
    "id": "ceuscBtpisbm"
   },
   "source": [
    "Konversi label: ham → 0, Spam → 1"
   ]
  },
  {
   "cell_type": "code",
   "execution_count": 15,
   "id": "BAahOxrXisbn",
   "metadata": {
    "id": "BAahOxrXisbn"
   },
   "outputs": [],
   "source": [
    "df_indo2['label'] = df_indo2['label'].map({'ham': 0, 'Spam': 1})"
   ]
  },
  {
   "cell_type": "markdown",
   "id": "8rzQqG-Eh905",
   "metadata": {
    "id": "8rzQqG-Eh905"
   },
   "source": [
    "Isi dari kolom label"
   ]
  },
  {
   "cell_type": "code",
   "execution_count": 16,
   "id": "fJInVr7kh905",
   "metadata": {
    "colab": {
     "base_uri": "https://localhost:8080/",
     "height": 178
    },
    "executionInfo": {
     "elapsed": 79,
     "status": "ok",
     "timestamp": 1749097590364,
     "user": {
      "displayName": "Dimas Rahman",
      "userId": "00422741092376175942"
     },
     "user_tz": -420
    },
    "id": "fJInVr7kh905",
    "outputId": "3705140e-762d-45d9-d109-28947e4fba9d"
   },
   "outputs": [
    {
     "data": {
      "text/plain": [
       "label\n",
       "0    1260\n",
       "1     638\n",
       "Name: count, dtype: int64"
      ]
     },
     "execution_count": 16,
     "metadata": {},
     "output_type": "execute_result"
    }
   ],
   "source": [
    "df_indo2['label'].value_counts()"
   ]
  },
  {
   "cell_type": "markdown",
   "id": "1mIgKbcYEhlt",
   "metadata": {
    "id": "1mIgKbcYEhlt"
   },
   "source": [
    "<a id=\"2\"></a>\n",
    "## <p style=\"background-color:#034C53;font-family:newtimeroman;color:#FFF9ED;font-size:110%;text-align:center;border-radius:10px 10px;\">GABUNGAN KEDUANYA</p>"
   ]
  },
  {
   "cell_type": "code",
   "execution_count": 17,
   "id": "suB5BtSWEyx_",
   "metadata": {
    "colab": {
     "base_uri": "https://localhost:8080/",
     "height": 424
    },
    "executionInfo": {
     "elapsed": 130,
     "status": "ok",
     "timestamp": 1749097641213,
     "user": {
      "displayName": "Dimas Rahman",
      "userId": "00422741092376175942"
     },
     "user_tz": -420
    },
    "id": "suB5BtSWEyx_",
    "outputId": "94778e88-2c7f-449c-fb09-441189c5d8b8"
   },
   "outputs": [
    {
     "data": {
      "text/html": [
       "<div>\n",
       "<style scoped>\n",
       "    .dataframe tbody tr th:only-of-type {\n",
       "        vertical-align: middle;\n",
       "    }\n",
       "\n",
       "    .dataframe tbody tr th {\n",
       "        vertical-align: top;\n",
       "    }\n",
       "\n",
       "    .dataframe thead th {\n",
       "        text-align: right;\n",
       "    }\n",
       "</style>\n",
       "<table border=\"1\" class=\"dataframe\">\n",
       "  <thead>\n",
       "    <tr style=\"text-align: right;\">\n",
       "      <th></th>\n",
       "      <th>label</th>\n",
       "      <th>Message</th>\n",
       "    </tr>\n",
       "  </thead>\n",
       "  <tbody>\n",
       "    <tr>\n",
       "      <th>0</th>\n",
       "      <td>1</td>\n",
       "      <td>Jika anda bermasalah dgn CC/KT@, stres dgn bun...</td>\n",
       "    </tr>\n",
       "    <tr>\n",
       "      <th>1</th>\n",
       "      <td>1</td>\n",
       "      <td>Lelah byr min payment? Kami Solusinya, bantu s...</td>\n",
       "    </tr>\n",
       "    <tr>\n",
       "      <th>2</th>\n",
       "      <td>1</td>\n",
       "      <td>Dana Tunai (KTA) bunga 0,99% hingga 300 jt. Sy...</td>\n",
       "    </tr>\n",
       "    <tr>\n",
       "      <th>3</th>\n",
       "      <td>1</td>\n",
       "      <td>“ROXI CELL” Hanya dengan Rp.100rb Anda bisa ja...</td>\n",
       "    </tr>\n",
       "    <tr>\n",
       "      <th>4</th>\n",
       "      <td>1</td>\n",
       "      <td>3 RAMADHAN Selamat Anda Pemenang Rp.100jt. PIN...</td>\n",
       "    </tr>\n",
       "    <tr>\n",
       "      <th>...</th>\n",
       "      <td>...</td>\n",
       "      <td>...</td>\n",
       "    </tr>\n",
       "    <tr>\n",
       "      <th>2796</th>\n",
       "      <td>0</td>\n",
       "      <td>Yup, tidak perlu. Aku akan jus menunggu 4 e hu...</td>\n",
       "    </tr>\n",
       "    <tr>\n",
       "      <th>2797</th>\n",
       "      <td>0</td>\n",
       "      <td>Yup... Dari apa yang saya remb... Saya pikir s...</td>\n",
       "    </tr>\n",
       "    <tr>\n",
       "      <th>2798</th>\n",
       "      <td>0</td>\n",
       "      <td>Yup... Bagaimana Ã 1/4 noe leh ...</td>\n",
       "    </tr>\n",
       "    <tr>\n",
       "      <th>2799</th>\n",
       "      <td>0</td>\n",
       "      <td>Yup... Ok i go home melihat timing maka saya m...</td>\n",
       "    </tr>\n",
       "    <tr>\n",
       "      <th>2800</th>\n",
       "      <td>0</td>\n",
       "      <td>ZOE ITU BARU SAJA MEMUKULKU 2 IM FUCKING SHITI...</td>\n",
       "    </tr>\n",
       "  </tbody>\n",
       "</table>\n",
       "<p>2801 rows × 2 columns</p>\n",
       "</div>"
      ],
      "text/plain": [
       "      label                                            Message\n",
       "0         1  Jika anda bermasalah dgn CC/KT@, stres dgn bun...\n",
       "1         1  Lelah byr min payment? Kami Solusinya, bantu s...\n",
       "2         1  Dana Tunai (KTA) bunga 0,99% hingga 300 jt. Sy...\n",
       "3         1  “ROXI CELL” Hanya dengan Rp.100rb Anda bisa ja...\n",
       "4         1  3 RAMADHAN Selamat Anda Pemenang Rp.100jt. PIN...\n",
       "...     ...                                                ...\n",
       "2796      0  Yup, tidak perlu. Aku akan jus menunggu 4 e hu...\n",
       "2797      0  Yup... Dari apa yang saya remb... Saya pikir s...\n",
       "2798      0                 Yup... Bagaimana Ã 1/4 noe leh ...\n",
       "2799      0  Yup... Ok i go home melihat timing maka saya m...\n",
       "2800      0  ZOE ITU BARU SAJA MEMUKULKU 2 IM FUCKING SHITI...\n",
       "\n",
       "[2801 rows x 2 columns]"
      ]
     },
     "execution_count": 17,
     "metadata": {},
     "output_type": "execute_result"
    }
   ],
   "source": [
    "df_indo_gabung = pd.concat([df_indo1, df_indo2], ignore_index=True)\n",
    "df_indo_gabung"
   ]
  },
  {
   "cell_type": "markdown",
   "id": "2CX1qWooQHSD",
   "metadata": {
    "id": "2CX1qWooQHSD"
   },
   "source": [
    "Cek dan Hapus missing value"
   ]
  },
  {
   "cell_type": "code",
   "execution_count": 18,
   "id": "lU4s6bVwQHST",
   "metadata": {
    "colab": {
     "base_uri": "https://localhost:8080/"
    },
    "executionInfo": {
     "elapsed": 111,
     "status": "ok",
     "timestamp": 1749097641321,
     "user": {
      "displayName": "Dimas Rahman",
      "userId": "00422741092376175942"
     },
     "user_tz": -420
    },
    "id": "lU4s6bVwQHST",
    "outputId": "210a0980-295c-4fc6-a1cf-2c54e0f48206"
   },
   "outputs": [
    {
     "name": "stdout",
     "output_type": "stream",
     "text": [
      "Missing value:\n",
      "\n",
      "label      0\n",
      "Message    0\n",
      "dtype: int64\n",
      "\n",
      "telah berhasil dihapus\n"
     ]
    }
   ],
   "source": [
    "print(f'Missing value:\\n\\n{df_indo_gabung.isna().sum()}')\n",
    "df_indo_gabung = df_indo_gabung.dropna()\n",
    "print('\\ntelah berhasil dihapus')"
   ]
  },
  {
   "cell_type": "markdown",
   "id": "VSiAp9rCH7q8",
   "metadata": {
    "id": "VSiAp9rCH7q8"
   },
   "source": [
    "Cek dan Hapus duplikat"
   ]
  },
  {
   "cell_type": "code",
   "execution_count": 19,
   "id": "e6HsXpglFu85",
   "metadata": {
    "colab": {
     "base_uri": "https://localhost:8080/"
    },
    "executionInfo": {
     "elapsed": 44,
     "status": "ok",
     "timestamp": 1749097641371,
     "user": {
      "displayName": "Dimas Rahman",
      "userId": "00422741092376175942"
     },
     "user_tz": -420
    },
    "id": "e6HsXpglFu85",
    "outputId": "ccefad5f-d745-4b58-b484-88071e0db740"
   },
   "outputs": [
    {
     "name": "stdout",
     "output_type": "stream",
     "text": [
      "Baris duplikat = 0\n",
      "telah berhasil dihapus\n"
     ]
    }
   ],
   "source": [
    "print(f'Baris duplikat = {df_indo_gabung.duplicated().sum()}')\n",
    "df_indo_gabung = df_indo_gabung.drop_duplicates()\n",
    "print('telah berhasil dihapus')"
   ]
  },
  {
   "cell_type": "markdown",
   "id": "BJ7uHMEGH9-v",
   "metadata": {
    "id": "BJ7uHMEGH9-v"
   },
   "source": [
    "Cek value kolom label"
   ]
  },
  {
   "cell_type": "code",
   "execution_count": 20,
   "id": "Hz0rTGRnF5R3",
   "metadata": {
    "colab": {
     "base_uri": "https://localhost:8080/",
     "height": 178
    },
    "executionInfo": {
     "elapsed": 114,
     "status": "ok",
     "timestamp": 1749097641489,
     "user": {
      "displayName": "Dimas Rahman",
      "userId": "00422741092376175942"
     },
     "user_tz": -420
    },
    "id": "Hz0rTGRnF5R3",
    "outputId": "2c583619-0da5-44b4-e414-db91b1c25854"
   },
   "outputs": [
    {
     "data": {
      "text/plain": [
       "label\n",
       "0    1828\n",
       "1     973\n",
       "Name: count, dtype: int64"
      ]
     },
     "execution_count": 20,
     "metadata": {},
     "output_type": "execute_result"
    }
   ],
   "source": [
    "df_indo_gabung['label'].value_counts()"
   ]
  },
  {
   "cell_type": "markdown",
   "id": "Q3pC3eN0IEyY",
   "metadata": {
    "id": "Q3pC3eN0IEyY"
   },
   "source": [
    "Preprocessing"
   ]
  },
  {
   "cell_type": "code",
   "execution_count": 21,
   "id": "_sHujv9ZIEyZ",
   "metadata": {
    "colab": {
     "base_uri": "https://localhost:8080/",
     "height": 441
    },
    "executionInfo": {
     "elapsed": 505304,
     "status": "ok",
     "timestamp": 1749098314143,
     "user": {
      "displayName": "Dimas Rahman",
      "userId": "00422741092376175942"
     },
     "user_tz": -420
    },
    "id": "_sHujv9ZIEyZ",
    "outputId": "6910886b-8c1b-4404-920d-bae2e0d9857f"
   },
   "outputs": [
    {
     "name": "stdout",
     "output_type": "stream",
     "text": [
      "Preprocessing selesai\n"
     ]
    },
    {
     "data": {
      "text/html": [
       "<div>\n",
       "<style scoped>\n",
       "    .dataframe tbody tr th:only-of-type {\n",
       "        vertical-align: middle;\n",
       "    }\n",
       "\n",
       "    .dataframe tbody tr th {\n",
       "        vertical-align: top;\n",
       "    }\n",
       "\n",
       "    .dataframe thead th {\n",
       "        text-align: right;\n",
       "    }\n",
       "</style>\n",
       "<table border=\"1\" class=\"dataframe\">\n",
       "  <thead>\n",
       "    <tr style=\"text-align: right;\">\n",
       "      <th></th>\n",
       "      <th>label</th>\n",
       "      <th>Message</th>\n",
       "      <th>clean_Message</th>\n",
       "    </tr>\n",
       "  </thead>\n",
       "  <tbody>\n",
       "    <tr>\n",
       "      <th>0</th>\n",
       "      <td>1</td>\n",
       "      <td>Jika anda bermasalah dgn CC/KT@, stres dgn bun...</td>\n",
       "      <td>masalah cckt stres bunga lunas disc sd hubung ...</td>\n",
       "    </tr>\n",
       "    <tr>\n",
       "      <th>1</th>\n",
       "      <td>1</td>\n",
       "      <td>Lelah byr min payment? Kami Solusinya, bantu s...</td>\n",
       "      <td>lelah bayar min payment solusi bantu legal tut...</td>\n",
       "    </tr>\n",
       "    <tr>\n",
       "      <th>2</th>\n",
       "      <td>1</td>\n",
       "      <td>Dana Tunai (KTA) bunga 0,99% hingga 300 jt. Sy...</td>\n",
       "      <td>dana tunai bunga jt syarat ktp cc bpkb rate ca...</td>\n",
       "    </tr>\n",
       "    <tr>\n",
       "      <th>3</th>\n",
       "      <td>1</td>\n",
       "      <td>“ROXI CELL” Hanya dengan Rp.100rb Anda bisa ja...</td>\n",
       "      <td>roxi cell rprb agen pulsa elektrik operator gs...</td>\n",
       "    </tr>\n",
       "    <tr>\n",
       "      <th>4</th>\n",
       "      <td>1</td>\n",
       "      <td>3 RAMADHAN Selamat Anda Pemenang Rp.100jt. PIN...</td>\n",
       "      <td>ramadhan selamat menang rpjt pin code yrkz inf...</td>\n",
       "    </tr>\n",
       "    <tr>\n",
       "      <th>...</th>\n",
       "      <td>...</td>\n",
       "      <td>...</td>\n",
       "      <td>...</td>\n",
       "    </tr>\n",
       "    <tr>\n",
       "      <th>2796</th>\n",
       "      <td>0</td>\n",
       "      <td>Yup, tidak perlu. Aku akan jus menunggu 4 e hu...</td>\n",
       "      <td>yup jus tunggu e hujan henti</td>\n",
       "    </tr>\n",
       "    <tr>\n",
       "      <th>2797</th>\n",
       "      <td>0</td>\n",
       "      <td>Yup... Dari apa yang saya remb... Saya pikir s...</td>\n",
       "      <td>yup remb pikir mes</td>\n",
       "    </tr>\n",
       "    <tr>\n",
       "      <th>2798</th>\n",
       "      <td>0</td>\n",
       "      <td>Yup... Bagaimana Ã 1/4 noe leh ...</td>\n",
       "      <td>yup noe leh</td>\n",
       "    </tr>\n",
       "    <tr>\n",
       "      <th>2799</th>\n",
       "      <td>0</td>\n",
       "      <td>Yup... Ok i go home melihat timing maka saya m...</td>\n",
       "      <td>yup ok i go home timing xuhui ajar tanggal mei...</td>\n",
       "    </tr>\n",
       "    <tr>\n",
       "      <th>2800</th>\n",
       "      <td>0</td>\n",
       "      <td>ZOE ITU BARU SAJA MEMUKULKU 2 IM FUCKING SHITI...</td>\n",
       "      <td>zoe pukul im fucking shitin diri il defo coba ...</td>\n",
       "    </tr>\n",
       "  </tbody>\n",
       "</table>\n",
       "<p>2801 rows × 3 columns</p>\n",
       "</div>"
      ],
      "text/plain": [
       "      label                                            Message  \\\n",
       "0         1  Jika anda bermasalah dgn CC/KT@, stres dgn bun...   \n",
       "1         1  Lelah byr min payment? Kami Solusinya, bantu s...   \n",
       "2         1  Dana Tunai (KTA) bunga 0,99% hingga 300 jt. Sy...   \n",
       "3         1  “ROXI CELL” Hanya dengan Rp.100rb Anda bisa ja...   \n",
       "4         1  3 RAMADHAN Selamat Anda Pemenang Rp.100jt. PIN...   \n",
       "...     ...                                                ...   \n",
       "2796      0  Yup, tidak perlu. Aku akan jus menunggu 4 e hu...   \n",
       "2797      0  Yup... Dari apa yang saya remb... Saya pikir s...   \n",
       "2798      0                 Yup... Bagaimana Ã 1/4 noe leh ...   \n",
       "2799      0  Yup... Ok i go home melihat timing maka saya m...   \n",
       "2800      0  ZOE ITU BARU SAJA MEMUKULKU 2 IM FUCKING SHITI...   \n",
       "\n",
       "                                          clean_Message  \n",
       "0     masalah cckt stres bunga lunas disc sd hubung ...  \n",
       "1     lelah bayar min payment solusi bantu legal tut...  \n",
       "2     dana tunai bunga jt syarat ktp cc bpkb rate ca...  \n",
       "3     roxi cell rprb agen pulsa elektrik operator gs...  \n",
       "4     ramadhan selamat menang rpjt pin code yrkz inf...  \n",
       "...                                                 ...  \n",
       "2796                       yup jus tunggu e hujan henti  \n",
       "2797                                 yup remb pikir mes  \n",
       "2798                                        yup noe leh  \n",
       "2799  yup ok i go home timing xuhui ajar tanggal mei...  \n",
       "2800  zoe pukul im fucking shitin diri il defo coba ...  \n",
       "\n",
       "[2801 rows x 3 columns]"
      ]
     },
     "execution_count": 21,
     "metadata": {},
     "output_type": "execute_result"
    }
   ],
   "source": [
    "dataset_key_norm = pd.read_csv('key_norm_ind.csv')\n",
    "processor = TextPreprocessor(key_norm_dataset=dataset_key_norm, language='indonesian')\n",
    "\n",
    "df_indo_gabung['clean_Message'] = df_indo_gabung['Message'].apply(processor.preprocess)\n",
    "\n",
    "print('Preprocessing selesai')\n",
    "df_indo_gabung\n"
   ]
  },
  {
   "cell_type": "markdown",
   "id": "DVQq-hmkWgHy",
   "metadata": {
    "id": "DVQq-hmkWgHy"
   },
   "source": [
    "Simpan menjadi file csv baru"
   ]
  },
  {
   "cell_type": "code",
   "execution_count": null,
   "id": "Scb5jSHjWgH0",
   "metadata": {
    "colab": {
     "base_uri": "https://localhost:8080/"
    },
    "executionInfo": {
     "elapsed": 117,
     "status": "ok",
     "timestamp": 1749098314267,
     "user": {
      "displayName": "Dimas Rahman",
      "userId": "00422741092376175942"
     },
     "user_tz": -420
    },
    "id": "Scb5jSHjWgH0",
    "outputId": "2c856230-044c-4a48-cbc9-5c705c870b08"
   },
   "outputs": [
    {
     "name": "stdout",
     "output_type": "stream",
     "text": [
      "Data telah disimpan dalam clean_dataset_sms_indo.csv\n"
     ]
    }
   ],
   "source": [
    "df_indo_gabung.to_csv('./dataset (setelah prepros)/clean_dataset_sms_indo.csv', index=False)\n",
    "\n",
    "print(\"Data telah disimpan dalam ./dataset (setelah prepros)/clean_dataset_sms_indo.csv\")"
   ]
  },
  {
   "cell_type": "markdown",
   "id": "zBZQIWd72xjo",
   "metadata": {
    "id": "zBZQIWd72xjo"
   },
   "source": [
    "<a id=\"2\"></a>\n",
    "# <p style=\"background-color:#034C53;font-family:newtimeroman;color:#FFF9ED;font-size:130%;text-align:center;border-radius:10px 10px;\">SMS BAHASA INGGRIS</p>"
   ]
  },
  {
   "cell_type": "markdown",
   "id": "R5lO2fk2OF3G",
   "metadata": {
    "id": "R5lO2fk2OF3G"
   },
   "source": [
    "Baca Dataset"
   ]
  },
  {
   "cell_type": "code",
   "execution_count": 23,
   "id": "aTR2-11mOF3G",
   "metadata": {
    "colab": {
     "base_uri": "https://localhost:8080/",
     "height": 424
    },
    "executionInfo": {
     "elapsed": 119,
     "status": "ok",
     "timestamp": 1749098314402,
     "user": {
      "displayName": "Dimas Rahman",
      "userId": "00422741092376175942"
     },
     "user_tz": -420
    },
    "id": "aTR2-11mOF3G",
    "outputId": "07f2f445-a899-407e-9d46-ab72b54e2c06"
   },
   "outputs": [
    {
     "data": {
      "text/html": [
       "<div>\n",
       "<style scoped>\n",
       "    .dataframe tbody tr th:only-of-type {\n",
       "        vertical-align: middle;\n",
       "    }\n",
       "\n",
       "    .dataframe tbody tr th {\n",
       "        vertical-align: top;\n",
       "    }\n",
       "\n",
       "    .dataframe thead th {\n",
       "        text-align: right;\n",
       "    }\n",
       "</style>\n",
       "<table border=\"1\" class=\"dataframe\">\n",
       "  <thead>\n",
       "    <tr style=\"text-align: right;\">\n",
       "      <th></th>\n",
       "      <th>label</th>\n",
       "      <th>Message</th>\n",
       "    </tr>\n",
       "  </thead>\n",
       "  <tbody>\n",
       "    <tr>\n",
       "      <th>0</th>\n",
       "      <td>ham</td>\n",
       "      <td>Go until jurong point, crazy.. Available only ...</td>\n",
       "    </tr>\n",
       "    <tr>\n",
       "      <th>1</th>\n",
       "      <td>ham</td>\n",
       "      <td>Ok lar... Joking wif u oni...</td>\n",
       "    </tr>\n",
       "    <tr>\n",
       "      <th>2</th>\n",
       "      <td>spam</td>\n",
       "      <td>Free entry in 2 a wkly comp to win FA Cup fina...</td>\n",
       "    </tr>\n",
       "    <tr>\n",
       "      <th>3</th>\n",
       "      <td>ham</td>\n",
       "      <td>U dun say so early hor... U c already then say...</td>\n",
       "    </tr>\n",
       "    <tr>\n",
       "      <th>4</th>\n",
       "      <td>ham</td>\n",
       "      <td>Nah I don't think he goes to usf, he lives aro...</td>\n",
       "    </tr>\n",
       "    <tr>\n",
       "      <th>...</th>\n",
       "      <td>...</td>\n",
       "      <td>...</td>\n",
       "    </tr>\n",
       "    <tr>\n",
       "      <th>5567</th>\n",
       "      <td>spam</td>\n",
       "      <td>This is the 2nd time we have tried 2 contact u...</td>\n",
       "    </tr>\n",
       "    <tr>\n",
       "      <th>5568</th>\n",
       "      <td>ham</td>\n",
       "      <td>Will ü b going to esplanade fr home?</td>\n",
       "    </tr>\n",
       "    <tr>\n",
       "      <th>5569</th>\n",
       "      <td>ham</td>\n",
       "      <td>Pity, * was in mood for that. So...any other s...</td>\n",
       "    </tr>\n",
       "    <tr>\n",
       "      <th>5570</th>\n",
       "      <td>ham</td>\n",
       "      <td>The guy did some bitching but I acted like i'd...</td>\n",
       "    </tr>\n",
       "    <tr>\n",
       "      <th>5571</th>\n",
       "      <td>ham</td>\n",
       "      <td>Rofl. Its true to its name</td>\n",
       "    </tr>\n",
       "  </tbody>\n",
       "</table>\n",
       "<p>5572 rows × 2 columns</p>\n",
       "</div>"
      ],
      "text/plain": [
       "     label                                            Message\n",
       "0      ham  Go until jurong point, crazy.. Available only ...\n",
       "1      ham                      Ok lar... Joking wif u oni...\n",
       "2     spam  Free entry in 2 a wkly comp to win FA Cup fina...\n",
       "3      ham  U dun say so early hor... U c already then say...\n",
       "4      ham  Nah I don't think he goes to usf, he lives aro...\n",
       "...    ...                                                ...\n",
       "5567  spam  This is the 2nd time we have tried 2 contact u...\n",
       "5568   ham               Will ü b going to esplanade fr home?\n",
       "5569   ham  Pity, * was in mood for that. So...any other s...\n",
       "5570   ham  The guy did some bitching but I acted like i'd...\n",
       "5571   ham                         Rofl. Its true to its name\n",
       "\n",
       "[5572 rows x 2 columns]"
      ]
     },
     "execution_count": 23,
     "metadata": {},
     "output_type": "execute_result"
    }
   ],
   "source": [
    "# df_inggris = pd.read_csv('spam.csv', encoding='latin-1')\n",
    "df_inggris = pd.read_csv('./dataset/SMSSpamCollection', sep='\\t', header=None, names=['label', 'Message'])\n",
    "df_inggris"
   ]
  },
  {
   "cell_type": "markdown",
   "id": "7ja-sfcZ3QQU",
   "metadata": {
    "id": "7ja-sfcZ3QQU"
   },
   "source": [
    "Hapus kolom \"Unnamed: 2\",\t\"Unnamed: 3\", dan\t\"Unnamed: 4\""
   ]
  },
  {
   "cell_type": "code",
   "execution_count": 24,
   "id": "1SFK0SLl3QQV",
   "metadata": {
    "id": "1SFK0SLl3QQV"
   },
   "outputs": [],
   "source": [
    "# df_inggris = df_inggris.drop(columns=[\"Unnamed: 2\",\t\"Unnamed: 3\", \"Unnamed: 4\"])"
   ]
  },
  {
   "cell_type": "markdown",
   "id": "Av9gJb7MUU7P",
   "metadata": {
    "id": "Av9gJb7MUU7P"
   },
   "source": [
    "Cek dan Hapus missing value"
   ]
  },
  {
   "cell_type": "code",
   "execution_count": 25,
   "id": "20N67MruUU7R",
   "metadata": {
    "colab": {
     "base_uri": "https://localhost:8080/"
    },
    "executionInfo": {
     "elapsed": 27,
     "status": "ok",
     "timestamp": 1749098314494,
     "user": {
      "displayName": "Dimas Rahman",
      "userId": "00422741092376175942"
     },
     "user_tz": -420
    },
    "id": "20N67MruUU7R",
    "outputId": "92356b6b-10a6-4abf-9084-bad56baf1f34"
   },
   "outputs": [
    {
     "name": "stdout",
     "output_type": "stream",
     "text": [
      "Missing value:\n",
      "\n",
      "label      0\n",
      "Message    0\n",
      "dtype: int64\n",
      "\n",
      "telah berhasil dihapus\n"
     ]
    }
   ],
   "source": [
    "print(f'Missing value:\\n\\n{df_inggris.isna().sum()}')\n",
    "df_inggris = df_inggris.dropna()\n",
    "print('\\ntelah berhasil dihapus')"
   ]
  },
  {
   "cell_type": "markdown",
   "id": "GLbnX6lVUU7S",
   "metadata": {
    "id": "GLbnX6lVUU7S"
   },
   "source": [
    "Cek dan Hapus duplikat"
   ]
  },
  {
   "cell_type": "code",
   "execution_count": 26,
   "id": "FAbgTTntUU7T",
   "metadata": {
    "colab": {
     "base_uri": "https://localhost:8080/"
    },
    "executionInfo": {
     "elapsed": 163,
     "status": "ok",
     "timestamp": 1749098314665,
     "user": {
      "displayName": "Dimas Rahman",
      "userId": "00422741092376175942"
     },
     "user_tz": -420
    },
    "id": "FAbgTTntUU7T",
    "outputId": "14e97dc2-1de8-4e69-96bd-633a9c543275"
   },
   "outputs": [
    {
     "name": "stdout",
     "output_type": "stream",
     "text": [
      "Baris duplikat = 403\n",
      "telah berhasil dihapus\n"
     ]
    }
   ],
   "source": [
    "print(f'Baris duplikat = {df_inggris.duplicated().sum()}')\n",
    "df_inggris = df_inggris.drop_duplicates()\n",
    "print('telah berhasil dihapus')"
   ]
  },
  {
   "cell_type": "markdown",
   "id": "37TlPHK_PgZk",
   "metadata": {
    "id": "37TlPHK_PgZk"
   },
   "source": [
    "Ganti nama kolom"
   ]
  },
  {
   "cell_type": "code",
   "execution_count": 27,
   "id": "n9wOfhFvPiih",
   "metadata": {
    "id": "n9wOfhFvPiih"
   },
   "outputs": [],
   "source": [
    "# df_inggris = df_inggris.rename(columns={'v1': 'label', 'v2': 'Message'})"
   ]
  },
  {
   "cell_type": "markdown",
   "id": "29e-Mw6ZU9ya",
   "metadata": {
    "id": "29e-Mw6ZU9ya"
   },
   "source": [
    "Isi dari kolom label"
   ]
  },
  {
   "cell_type": "code",
   "execution_count": 28,
   "id": "WvgOqXBKU9yb",
   "metadata": {
    "colab": {
     "base_uri": "https://localhost:8080/",
     "height": 178
    },
    "executionInfo": {
     "elapsed": 163,
     "status": "ok",
     "timestamp": 1749098314744,
     "user": {
      "displayName": "Dimas Rahman",
      "userId": "00422741092376175942"
     },
     "user_tz": -420
    },
    "id": "WvgOqXBKU9yb",
    "outputId": "c75a10f8-d203-4943-e003-637006d5e357"
   },
   "outputs": [
    {
     "data": {
      "text/plain": [
       "label\n",
       "ham     4516\n",
       "spam     653\n",
       "Name: count, dtype: int64"
      ]
     },
     "execution_count": 28,
     "metadata": {},
     "output_type": "execute_result"
    }
   ],
   "source": [
    "df_inggris['label'].value_counts()"
   ]
  },
  {
   "cell_type": "markdown",
   "id": "StDLy_pJQJii",
   "metadata": {
    "id": "StDLy_pJQJii"
   },
   "source": [
    "Konversi label: ham → 0, spam → 1"
   ]
  },
  {
   "cell_type": "code",
   "execution_count": 29,
   "id": "uMz_9U_RQLzB",
   "metadata": {
    "id": "uMz_9U_RQLzB"
   },
   "outputs": [],
   "source": [
    "df_inggris['label'] = df_inggris['label'].map({'ham': 0, 'spam': 1})"
   ]
  },
  {
   "cell_type": "markdown",
   "id": "CieR28PKeYrg",
   "metadata": {
    "id": "CieR28PKeYrg"
   },
   "source": [
    "Isi dari kolom label"
   ]
  },
  {
   "cell_type": "code",
   "execution_count": 30,
   "id": "hPsBXKEkzKPB",
   "metadata": {
    "colab": {
     "base_uri": "https://localhost:8080/",
     "height": 178
    },
    "executionInfo": {
     "elapsed": 170,
     "status": "ok",
     "timestamp": 1749098314948,
     "user": {
      "displayName": "Dimas Rahman",
      "userId": "00422741092376175942"
     },
     "user_tz": -420
    },
    "id": "hPsBXKEkzKPB",
    "outputId": "d36a164f-eaf6-4921-cd03-d8086676c42c"
   },
   "outputs": [
    {
     "data": {
      "text/plain": [
       "label\n",
       "0    4516\n",
       "1     653\n",
       "Name: count, dtype: int64"
      ]
     },
     "execution_count": 30,
     "metadata": {},
     "output_type": "execute_result"
    }
   ],
   "source": [
    "df_inggris['label'].value_counts()"
   ]
  },
  {
   "cell_type": "markdown",
   "id": "siLBuSIFdPa9",
   "metadata": {
    "id": "siLBuSIFdPa9"
   },
   "source": [
    "Preprocessing"
   ]
  },
  {
   "cell_type": "code",
   "execution_count": 31,
   "id": "5UTf77CWdPa_",
   "metadata": {
    "colab": {
     "base_uri": "https://localhost:8080/",
     "height": 441
    },
    "executionInfo": {
     "elapsed": 1004708,
     "status": "ok",
     "timestamp": 1749099319640,
     "user": {
      "displayName": "Dimas Rahman",
      "userId": "00422741092376175942"
     },
     "user_tz": -420
    },
    "id": "5UTf77CWdPa_",
    "outputId": "780e742d-cb1f-416b-cd76-1d3a158efcdb"
   },
   "outputs": [
    {
     "name": "stdout",
     "output_type": "stream",
     "text": [
      "Preprocessing selesai\n"
     ]
    },
    {
     "data": {
      "text/html": [
       "<div>\n",
       "<style scoped>\n",
       "    .dataframe tbody tr th:only-of-type {\n",
       "        vertical-align: middle;\n",
       "    }\n",
       "\n",
       "    .dataframe tbody tr th {\n",
       "        vertical-align: top;\n",
       "    }\n",
       "\n",
       "    .dataframe thead th {\n",
       "        text-align: right;\n",
       "    }\n",
       "</style>\n",
       "<table border=\"1\" class=\"dataframe\">\n",
       "  <thead>\n",
       "    <tr style=\"text-align: right;\">\n",
       "      <th></th>\n",
       "      <th>label</th>\n",
       "      <th>Message</th>\n",
       "      <th>clean_Message</th>\n",
       "    </tr>\n",
       "  </thead>\n",
       "  <tbody>\n",
       "    <tr>\n",
       "      <th>0</th>\n",
       "      <td>0</td>\n",
       "      <td>Go until jurong point, crazy.. Available only ...</td>\n",
       "      <td>go jurong point crazi avail bugi n great world...</td>\n",
       "    </tr>\n",
       "    <tr>\n",
       "      <th>1</th>\n",
       "      <td>0</td>\n",
       "      <td>Ok lar... Joking wif u oni...</td>\n",
       "      <td>ok lar joke wif oni</td>\n",
       "    </tr>\n",
       "    <tr>\n",
       "      <th>2</th>\n",
       "      <td>1</td>\n",
       "      <td>Free entry in 2 a wkly comp to win FA Cup fina...</td>\n",
       "      <td>free entri wkli comp win fa cup final tkt st m...</td>\n",
       "    </tr>\n",
       "    <tr>\n",
       "      <th>3</th>\n",
       "      <td>0</td>\n",
       "      <td>U dun say so early hor... U c already then say...</td>\n",
       "      <td>dun say earli hor c alreadi say</td>\n",
       "    </tr>\n",
       "    <tr>\n",
       "      <th>4</th>\n",
       "      <td>0</td>\n",
       "      <td>Nah I don't think he goes to usf, he lives aro...</td>\n",
       "      <td>nah dont think goe usf live around though</td>\n",
       "    </tr>\n",
       "    <tr>\n",
       "      <th>...</th>\n",
       "      <td>...</td>\n",
       "      <td>...</td>\n",
       "      <td>...</td>\n",
       "    </tr>\n",
       "    <tr>\n",
       "      <th>5567</th>\n",
       "      <td>1</td>\n",
       "      <td>This is the 2nd time we have tried 2 contact u...</td>\n",
       "      <td>nd time tri contact pound prize claim easi cal...</td>\n",
       "    </tr>\n",
       "    <tr>\n",
       "      <th>5568</th>\n",
       "      <td>0</td>\n",
       "      <td>Will ü b going to esplanade fr home?</td>\n",
       "      <td>ü b go esplanad fr home</td>\n",
       "    </tr>\n",
       "    <tr>\n",
       "      <th>5569</th>\n",
       "      <td>0</td>\n",
       "      <td>Pity, * was in mood for that. So...any other s...</td>\n",
       "      <td>piti mood soani suggest</td>\n",
       "    </tr>\n",
       "    <tr>\n",
       "      <th>5570</th>\n",
       "      <td>0</td>\n",
       "      <td>The guy did some bitching but I acted like i'd...</td>\n",
       "      <td>guy bitch act like id interest buy someth els ...</td>\n",
       "    </tr>\n",
       "    <tr>\n",
       "      <th>5571</th>\n",
       "      <td>0</td>\n",
       "      <td>Rofl. Its true to its name</td>\n",
       "      <td>roll floor laugh true name</td>\n",
       "    </tr>\n",
       "  </tbody>\n",
       "</table>\n",
       "<p>5169 rows × 3 columns</p>\n",
       "</div>"
      ],
      "text/plain": [
       "      label                                            Message  \\\n",
       "0         0  Go until jurong point, crazy.. Available only ...   \n",
       "1         0                      Ok lar... Joking wif u oni...   \n",
       "2         1  Free entry in 2 a wkly comp to win FA Cup fina...   \n",
       "3         0  U dun say so early hor... U c already then say...   \n",
       "4         0  Nah I don't think he goes to usf, he lives aro...   \n",
       "...     ...                                                ...   \n",
       "5567      1  This is the 2nd time we have tried 2 contact u...   \n",
       "5568      0               Will ü b going to esplanade fr home?   \n",
       "5569      0  Pity, * was in mood for that. So...any other s...   \n",
       "5570      0  The guy did some bitching but I acted like i'd...   \n",
       "5571      0                         Rofl. Its true to its name   \n",
       "\n",
       "                                          clean_Message  \n",
       "0     go jurong point crazi avail bugi n great world...  \n",
       "1                                   ok lar joke wif oni  \n",
       "2     free entri wkli comp win fa cup final tkt st m...  \n",
       "3                       dun say earli hor c alreadi say  \n",
       "4             nah dont think goe usf live around though  \n",
       "...                                                 ...  \n",
       "5567  nd time tri contact pound prize claim easi cal...  \n",
       "5568                            ü b go esplanad fr home  \n",
       "5569                            piti mood soani suggest  \n",
       "5570  guy bitch act like id interest buy someth els ...  \n",
       "5571                         roll floor laugh true name  \n",
       "\n",
       "[5169 rows x 3 columns]"
      ]
     },
     "execution_count": 31,
     "metadata": {},
     "output_type": "execute_result"
    }
   ],
   "source": [
    "dataset_key_norm = pd.read_csv('key_norm_eng.csv')\n",
    "processor = TextPreprocessor(key_norm_dataset=dataset_key_norm, language='english')\n",
    "\n",
    "df_inggris['clean_Message'] = df_inggris['Message'].apply(processor.preprocess)\n",
    "\n",
    "print('Preprocessing selesai')\n",
    "df_inggris"
   ]
  },
  {
   "cell_type": "markdown",
   "id": "QlBeDqDvdPbA",
   "metadata": {
    "id": "QlBeDqDvdPbA"
   },
   "source": [
    "Simpan menjadi file csv baru"
   ]
  },
  {
   "cell_type": "code",
   "execution_count": null,
   "id": "Q5zPfcGVdPbC",
   "metadata": {
    "colab": {
     "base_uri": "https://localhost:8080/"
    },
    "executionInfo": {
     "elapsed": 131,
     "status": "ok",
     "timestamp": 1749099319778,
     "user": {
      "displayName": "Dimas Rahman",
      "userId": "00422741092376175942"
     },
     "user_tz": -420
    },
    "id": "Q5zPfcGVdPbC",
    "outputId": "2db47d95-25b2-4866-df29-2bb8cc4c6ef2"
   },
   "outputs": [
    {
     "name": "stdout",
     "output_type": "stream",
     "text": [
      "Data telah disimpan dalam clean_dataset_sms_inggris.csv\n"
     ]
    }
   ],
   "source": [
    "df_inggris.to_csv('./dataset (setelah prepros)/clean_dataset_sms_inggris.csv', index=False)\n",
    "\n",
    "print(\"Data telah disimpan dalam ./dataset (setelah prepros)/clean_dataset_sms_inggris.csv\")"
   ]
  }
 ],
 "metadata": {
  "colab": {
   "collapsed_sections": [
    "icCUcK9GQq9d",
    "16Rgi_Gyer31",
    "k-FFGu_ngcU4",
    "USleV0muh90y",
    "1mIgKbcYEhlt",
    "zBZQIWd72xjo"
   ],
   "provenance": []
  },
  "kernelspec": {
   "display_name": ".venv",
   "language": "python",
   "name": "python3"
  },
  "language_info": {
   "codemirror_mode": {
    "name": "ipython",
    "version": 3
   },
   "file_extension": ".py",
   "mimetype": "text/x-python",
   "name": "python",
   "nbconvert_exporter": "python",
   "pygments_lexer": "ipython3",
   "version": "3.12.5"
  }
 },
 "nbformat": 4,
 "nbformat_minor": 5
}
