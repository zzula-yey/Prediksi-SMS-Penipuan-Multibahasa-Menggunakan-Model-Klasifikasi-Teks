{
 "cells": [
  {
   "cell_type": "markdown",
   "id": "7fc4deb3",
   "metadata": {
    "id": "7fc4deb3"
   },
   "source": [
    "<a id=\"1\"></a>\n",
    "# <p style=\"background-color:#034C53;font-family:newtimeroman;color:#FFF9ED;font-size:130%;text-align:center;border-radius:10px 10px;\">IMPORTING LIBRARIES</p>"
   ]
  },
  {
   "cell_type": "code",
   "execution_count": 26,
   "id": "8f00ad21",
   "metadata": {
    "id": "8f00ad21"
   },
   "outputs": [],
   "source": [
    "import pandas as pd"
   ]
  },
  {
   "cell_type": "markdown",
   "id": "zA265fum3r6h",
   "metadata": {
    "id": "zA265fum3r6h"
   },
   "source": [
    "<a id=\"1\"></a>\n",
    "# <p style=\"background-color:#034C53;font-family:newtimeroman;color:#FFF9ED;font-size:130%;text-align:center;border-radius:10px 10px;\">DATASET SMS INDONESIA</p>"
   ]
  },
  {
   "cell_type": "code",
   "execution_count": 27,
   "id": "NYE46vcy3rZg",
   "metadata": {
    "colab": {
     "base_uri": "https://localhost:8080/"
    },
    "executionInfo": {
     "elapsed": 17,
     "status": "ok",
     "timestamp": 1749107067453,
     "user": {
      "displayName": "Dims",
      "userId": "09243243935493582997"
     },
     "user_tz": -420
    },
    "id": "NYE46vcy3rZg",
    "outputId": "675d4e99-589a-43cf-d50b-bae4781b235c"
   },
   "outputs": [
    {
     "data": {
      "text/html": [
       "<div>\n",
       "<style scoped>\n",
       "    .dataframe tbody tr th:only-of-type {\n",
       "        vertical-align: middle;\n",
       "    }\n",
       "\n",
       "    .dataframe tbody tr th {\n",
       "        vertical-align: top;\n",
       "    }\n",
       "\n",
       "    .dataframe thead th {\n",
       "        text-align: right;\n",
       "    }\n",
       "</style>\n",
       "<table border=\"1\" class=\"dataframe\">\n",
       "  <thead>\n",
       "    <tr style=\"text-align: right;\">\n",
       "      <th></th>\n",
       "      <th>label</th>\n",
       "      <th>Message</th>\n",
       "      <th>clean_Message</th>\n",
       "    </tr>\n",
       "  </thead>\n",
       "  <tbody>\n",
       "    <tr>\n",
       "      <th>0</th>\n",
       "      <td>1</td>\n",
       "      <td>Jika anda bermasalah dgn CC/KT@, stres dgn bun...</td>\n",
       "      <td>masalah cckt stres bunga lunas disc sd hubung ...</td>\n",
       "    </tr>\n",
       "    <tr>\n",
       "      <th>1</th>\n",
       "      <td>1</td>\n",
       "      <td>Lelah byr min payment? Kami Solusinya, bantu s...</td>\n",
       "      <td>lelah bayar min payment solusi bantu legal tut...</td>\n",
       "    </tr>\n",
       "    <tr>\n",
       "      <th>2</th>\n",
       "      <td>1</td>\n",
       "      <td>Dana Tunai (KTA) bunga 0,99% hingga 300 jt. Sy...</td>\n",
       "      <td>dana tunai bunga jt syarat ktp cc bpkb rate ca...</td>\n",
       "    </tr>\n",
       "    <tr>\n",
       "      <th>3</th>\n",
       "      <td>1</td>\n",
       "      <td>“ROXI CELL” Hanya dengan Rp.100rb Anda bisa ja...</td>\n",
       "      <td>roxi cell rprb agen pulsa elektrik operator gs...</td>\n",
       "    </tr>\n",
       "    <tr>\n",
       "      <th>4</th>\n",
       "      <td>1</td>\n",
       "      <td>3 RAMADHAN Selamat Anda Pemenang Rp.100jt. PIN...</td>\n",
       "      <td>ramadhan selamat menang rpjt pin code yrkz inf...</td>\n",
       "    </tr>\n",
       "    <tr>\n",
       "      <th>...</th>\n",
       "      <td>...</td>\n",
       "      <td>...</td>\n",
       "      <td>...</td>\n",
       "    </tr>\n",
       "    <tr>\n",
       "      <th>2796</th>\n",
       "      <td>0</td>\n",
       "      <td>Yup, tidak perlu. Aku akan jus menunggu 4 e hu...</td>\n",
       "      <td>yup jus tunggu e hujan henti</td>\n",
       "    </tr>\n",
       "    <tr>\n",
       "      <th>2797</th>\n",
       "      <td>0</td>\n",
       "      <td>Yup... Dari apa yang saya remb... Saya pikir s...</td>\n",
       "      <td>yup remb pikir mes</td>\n",
       "    </tr>\n",
       "    <tr>\n",
       "      <th>2798</th>\n",
       "      <td>0</td>\n",
       "      <td>Yup... Bagaimana Ã 1/4 noe leh ...</td>\n",
       "      <td>yup noe leh</td>\n",
       "    </tr>\n",
       "    <tr>\n",
       "      <th>2799</th>\n",
       "      <td>0</td>\n",
       "      <td>Yup... Ok i go home melihat timing maka saya m...</td>\n",
       "      <td>yup ok i go home timing xuhui ajar tanggal mei...</td>\n",
       "    </tr>\n",
       "    <tr>\n",
       "      <th>2800</th>\n",
       "      <td>0</td>\n",
       "      <td>ZOE ITU BARU SAJA MEMUKULKU 2 IM FUCKING SHITI...</td>\n",
       "      <td>zoe pukul im fucking shitin diri il defo coba ...</td>\n",
       "    </tr>\n",
       "  </tbody>\n",
       "</table>\n",
       "<p>2801 rows × 3 columns</p>\n",
       "</div>"
      ],
      "text/plain": [
       "      label                                            Message  \\\n",
       "0         1  Jika anda bermasalah dgn CC/KT@, stres dgn bun...   \n",
       "1         1  Lelah byr min payment? Kami Solusinya, bantu s...   \n",
       "2         1  Dana Tunai (KTA) bunga 0,99% hingga 300 jt. Sy...   \n",
       "3         1  “ROXI CELL” Hanya dengan Rp.100rb Anda bisa ja...   \n",
       "4         1  3 RAMADHAN Selamat Anda Pemenang Rp.100jt. PIN...   \n",
       "...     ...                                                ...   \n",
       "2796      0  Yup, tidak perlu. Aku akan jus menunggu 4 e hu...   \n",
       "2797      0  Yup... Dari apa yang saya remb... Saya pikir s...   \n",
       "2798      0                 Yup... Bagaimana Ã 1/4 noe leh ...   \n",
       "2799      0  Yup... Ok i go home melihat timing maka saya m...   \n",
       "2800      0  ZOE ITU BARU SAJA MEMUKULKU 2 IM FUCKING SHITI...   \n",
       "\n",
       "                                          clean_Message  \n",
       "0     masalah cckt stres bunga lunas disc sd hubung ...  \n",
       "1     lelah bayar min payment solusi bantu legal tut...  \n",
       "2     dana tunai bunga jt syarat ktp cc bpkb rate ca...  \n",
       "3     roxi cell rprb agen pulsa elektrik operator gs...  \n",
       "4     ramadhan selamat menang rpjt pin code yrkz inf...  \n",
       "...                                                 ...  \n",
       "2796                       yup jus tunggu e hujan henti  \n",
       "2797                                 yup remb pikir mes  \n",
       "2798                                        yup noe leh  \n",
       "2799  yup ok i go home timing xuhui ajar tanggal mei...  \n",
       "2800  zoe pukul im fucking shitin diri il defo coba ...  \n",
       "\n",
       "[2801 rows x 3 columns]"
      ]
     },
     "execution_count": 27,
     "metadata": {},
     "output_type": "execute_result"
    }
   ],
   "source": [
    "df_indo = pd.read_csv('./dataset (setelah prepros)/clean_dataset_sms_indo.csv')\n",
    "df_indo"
   ]
  },
  {
   "cell_type": "markdown",
   "id": "zEMFF6U54sms",
   "metadata": {
    "id": "zEMFF6U54sms"
   },
   "source": [
    "Cek dan hapus missing value"
   ]
  },
  {
   "cell_type": "code",
   "execution_count": 28,
   "id": "7aGl2u1j4sms",
   "metadata": {
    "colab": {
     "base_uri": "https://localhost:8080/"
    },
    "executionInfo": {
     "elapsed": 11,
     "status": "ok",
     "timestamp": 1749107067465,
     "user": {
      "displayName": "Dims",
      "userId": "09243243935493582997"
     },
     "user_tz": -420
    },
    "id": "7aGl2u1j4sms",
    "outputId": "bbcdad24-961e-4697-de7f-094ae4648c57"
   },
   "outputs": [
    {
     "name": "stdout",
     "output_type": "stream",
     "text": [
      "Missing value:\n",
      "\n",
      "label             0\n",
      "Message           0\n",
      "clean_Message    10\n",
      "dtype: int64\n",
      "\n",
      "telah berhasil dihapus\n"
     ]
    }
   ],
   "source": [
    "print(f'Missing value:\\n\\n{df_indo.isna().sum()}')\n",
    "df_indo = df_indo.dropna()\n",
    "print('\\ntelah berhasil dihapus')"
   ]
  },
  {
   "cell_type": "code",
   "execution_count": 29,
   "id": "rqR5SjRr410_",
   "metadata": {
    "colab": {
     "base_uri": "https://localhost:8080/"
    },
    "executionInfo": {
     "elapsed": 8,
     "status": "ok",
     "timestamp": 1749107067481,
     "user": {
      "displayName": "Dims",
      "userId": "09243243935493582997"
     },
     "user_tz": -420
    },
    "id": "rqR5SjRr410_",
    "outputId": "ed6ebb6f-b228-4077-d0c4-69dbe10bbb8b"
   },
   "outputs": [
    {
     "name": "stdout",
     "output_type": "stream",
     "text": [
      "Jumlah 0: 1818\n",
      "Jumlah 1: 973\n"
     ]
    }
   ],
   "source": [
    "banyak_label_0_indo = df_indo['label'].value_counts().get(0, 0)  # Mengambil jumlah 0\n",
    "banyak_label_1_indo = df_indo['label'].value_counts().get(1, 0)   # Mengambil jumlah 1\n",
    "\n",
    "print(f\"Jumlah 0: {banyak_label_0_indo}\")\n",
    "print(f\"Jumlah 1: {banyak_label_1_indo}\")"
   ]
  },
  {
   "cell_type": "markdown",
   "id": "lPlZr3595sHb",
   "metadata": {
    "id": "lPlZr3595sHb"
   },
   "source": [
    "<a id=\"1\"></a>\n",
    "# <p style=\"background-color:#034C53;font-family:newtimeroman;color:#FFF9ED;font-size:130%;text-align:center;border-radius:10px 10px;\">DATASET SMS INGGRIS</p>"
   ]
  },
  {
   "cell_type": "code",
   "execution_count": 30,
   "id": "0_dx68264Gya",
   "metadata": {
    "colab": {
     "base_uri": "https://localhost:8080/"
    },
    "executionInfo": {
     "elapsed": 47,
     "status": "ok",
     "timestamp": 1749107067530,
     "user": {
      "displayName": "Dims",
      "userId": "09243243935493582997"
     },
     "user_tz": -420
    },
    "id": "0_dx68264Gya",
    "outputId": "f60d117e-552d-4053-ea6b-2284da72f9da"
   },
   "outputs": [
    {
     "data": {
      "text/html": [
       "<div>\n",
       "<style scoped>\n",
       "    .dataframe tbody tr th:only-of-type {\n",
       "        vertical-align: middle;\n",
       "    }\n",
       "\n",
       "    .dataframe tbody tr th {\n",
       "        vertical-align: top;\n",
       "    }\n",
       "\n",
       "    .dataframe thead th {\n",
       "        text-align: right;\n",
       "    }\n",
       "</style>\n",
       "<table border=\"1\" class=\"dataframe\">\n",
       "  <thead>\n",
       "    <tr style=\"text-align: right;\">\n",
       "      <th></th>\n",
       "      <th>label</th>\n",
       "      <th>Message</th>\n",
       "      <th>clean_Message</th>\n",
       "    </tr>\n",
       "  </thead>\n",
       "  <tbody>\n",
       "    <tr>\n",
       "      <th>0</th>\n",
       "      <td>0</td>\n",
       "      <td>Go until jurong point, crazy.. Available only ...</td>\n",
       "      <td>go jurong point crazi avail bugi n great world...</td>\n",
       "    </tr>\n",
       "    <tr>\n",
       "      <th>1</th>\n",
       "      <td>0</td>\n",
       "      <td>Ok lar... Joking wif u oni...</td>\n",
       "      <td>ok lar joke wif oni</td>\n",
       "    </tr>\n",
       "    <tr>\n",
       "      <th>2</th>\n",
       "      <td>1</td>\n",
       "      <td>Free entry in 2 a wkly comp to win FA Cup fina...</td>\n",
       "      <td>free entri wkli comp win fa cup final tkt st m...</td>\n",
       "    </tr>\n",
       "    <tr>\n",
       "      <th>3</th>\n",
       "      <td>0</td>\n",
       "      <td>U dun say so early hor... U c already then say...</td>\n",
       "      <td>dun say earli hor c alreadi say</td>\n",
       "    </tr>\n",
       "    <tr>\n",
       "      <th>4</th>\n",
       "      <td>0</td>\n",
       "      <td>Nah I don't think he goes to usf, he lives aro...</td>\n",
       "      <td>nah dont think goe usf live around though</td>\n",
       "    </tr>\n",
       "    <tr>\n",
       "      <th>...</th>\n",
       "      <td>...</td>\n",
       "      <td>...</td>\n",
       "      <td>...</td>\n",
       "    </tr>\n",
       "    <tr>\n",
       "      <th>5164</th>\n",
       "      <td>1</td>\n",
       "      <td>This is the 2nd time we have tried 2 contact u...</td>\n",
       "      <td>nd time tri contact pound prize claim easi cal...</td>\n",
       "    </tr>\n",
       "    <tr>\n",
       "      <th>5165</th>\n",
       "      <td>0</td>\n",
       "      <td>Will ü b going to esplanade fr home?</td>\n",
       "      <td>ü b go esplanad fr home</td>\n",
       "    </tr>\n",
       "    <tr>\n",
       "      <th>5166</th>\n",
       "      <td>0</td>\n",
       "      <td>Pity, * was in mood for that. So...any other s...</td>\n",
       "      <td>piti mood soani suggest</td>\n",
       "    </tr>\n",
       "    <tr>\n",
       "      <th>5167</th>\n",
       "      <td>0</td>\n",
       "      <td>The guy did some bitching but I acted like i'd...</td>\n",
       "      <td>guy bitch act like id interest buy someth els ...</td>\n",
       "    </tr>\n",
       "    <tr>\n",
       "      <th>5168</th>\n",
       "      <td>0</td>\n",
       "      <td>Rofl. Its true to its name</td>\n",
       "      <td>roll floor laugh true name</td>\n",
       "    </tr>\n",
       "  </tbody>\n",
       "</table>\n",
       "<p>5169 rows × 3 columns</p>\n",
       "</div>"
      ],
      "text/plain": [
       "      label                                            Message  \\\n",
       "0         0  Go until jurong point, crazy.. Available only ...   \n",
       "1         0                      Ok lar... Joking wif u oni...   \n",
       "2         1  Free entry in 2 a wkly comp to win FA Cup fina...   \n",
       "3         0  U dun say so early hor... U c already then say...   \n",
       "4         0  Nah I don't think he goes to usf, he lives aro...   \n",
       "...     ...                                                ...   \n",
       "5164      1  This is the 2nd time we have tried 2 contact u...   \n",
       "5165      0               Will ü b going to esplanade fr home?   \n",
       "5166      0  Pity, * was in mood for that. So...any other s...   \n",
       "5167      0  The guy did some bitching but I acted like i'd...   \n",
       "5168      0                         Rofl. Its true to its name   \n",
       "\n",
       "                                          clean_Message  \n",
       "0     go jurong point crazi avail bugi n great world...  \n",
       "1                                   ok lar joke wif oni  \n",
       "2     free entri wkli comp win fa cup final tkt st m...  \n",
       "3                       dun say earli hor c alreadi say  \n",
       "4             nah dont think goe usf live around though  \n",
       "...                                                 ...  \n",
       "5164  nd time tri contact pound prize claim easi cal...  \n",
       "5165                            ü b go esplanad fr home  \n",
       "5166                            piti mood soani suggest  \n",
       "5167  guy bitch act like id interest buy someth els ...  \n",
       "5168                         roll floor laugh true name  \n",
       "\n",
       "[5169 rows x 3 columns]"
      ]
     },
     "execution_count": 30,
     "metadata": {},
     "output_type": "execute_result"
    }
   ],
   "source": [
    "df_inggris = pd.read_csv('./dataset (setelah prepros)/clean_dataset_sms_inggris.csv')\n",
    "df_inggris"
   ]
  },
  {
   "cell_type": "markdown",
   "id": "6qBbHxQ04yaw",
   "metadata": {
    "id": "6qBbHxQ04yaw"
   },
   "source": [
    "Cek dan hapus missing value"
   ]
  },
  {
   "cell_type": "code",
   "execution_count": 31,
   "id": "PtgDlG3q4yaw",
   "metadata": {
    "colab": {
     "base_uri": "https://localhost:8080/"
    },
    "executionInfo": {
     "elapsed": 8,
     "status": "ok",
     "timestamp": 1749107067546,
     "user": {
      "displayName": "Dims",
      "userId": "09243243935493582997"
     },
     "user_tz": -420
    },
    "id": "PtgDlG3q4yaw",
    "outputId": "f6153a47-040e-46a6-c530-9f5338715334"
   },
   "outputs": [
    {
     "name": "stdout",
     "output_type": "stream",
     "text": [
      "Missing value:\n",
      "\n",
      "label            0\n",
      "Message          0\n",
      "clean_Message    9\n",
      "dtype: int64\n",
      "\n",
      "telah berhasil dihapus\n"
     ]
    }
   ],
   "source": [
    "print(f'Missing value:\\n\\n{df_inggris.isna().sum()}')\n",
    "df_inggris = df_inggris.dropna()\n",
    "print('\\ntelah berhasil dihapus')"
   ]
  },
  {
   "cell_type": "code",
   "execution_count": 32,
   "id": "ODYR6mYo5Aok",
   "metadata": {
    "colab": {
     "base_uri": "https://localhost:8080/"
    },
    "executionInfo": {
     "elapsed": 45,
     "status": "ok",
     "timestamp": 1749107067599,
     "user": {
      "displayName": "Dims",
      "userId": "09243243935493582997"
     },
     "user_tz": -420
    },
    "id": "ODYR6mYo5Aok",
    "outputId": "33bc9f48-b14a-4895-e10d-2497f4a5d61e"
   },
   "outputs": [
    {
     "name": "stdout",
     "output_type": "stream",
     "text": [
      "Jumlah 0: 4507\n",
      "Jumlah 1: 653\n"
     ]
    }
   ],
   "source": [
    "banyak_label_0_inggris = df_inggris['label'].value_counts().get(0, 0)  # Mengambil jumlah 0\n",
    "banyak_label_1_inggris = df_inggris['label'].value_counts().get(1, 0)   # Mengambil jumlah 1\n",
    "\n",
    "print(f\"Jumlah 0: {banyak_label_0_inggris}\")\n",
    "print(f\"Jumlah 1: {banyak_label_1_inggris}\")"
   ]
  },
  {
   "cell_type": "markdown",
   "id": "iOBfTgl1mwUD",
   "metadata": {
    "id": "iOBfTgl1mwUD"
   },
   "source": [
    "<a id=\"1\"></a>\n",
    "# <p style=\"background-color:#034C53;font-family:newtimeroman;color:#FFF9ED;font-size:130%;text-align:center;border-radius:10px 10px;\">RANDOM UNDERSAMPLING</p>"
   ]
  },
  {
   "cell_type": "markdown",
   "id": "96uTVSFHtnut",
   "metadata": {
    "id": "96uTVSFHtnut"
   },
   "source": [
    "Pakai kelas minoritas di dataset bahasa inggris"
   ]
  },
  {
   "cell_type": "code",
   "execution_count": 33,
   "id": "9l2qAbSsr8mj",
   "metadata": {
    "colab": {
     "base_uri": "https://localhost:8080/"
    },
    "executionInfo": {
     "elapsed": 8,
     "status": "ok",
     "timestamp": 1749107067600,
     "user": {
      "displayName": "Dims",
      "userId": "09243243935493582997"
     },
     "user_tz": -420
    },
    "id": "9l2qAbSsr8mj",
    "outputId": "f8c201eb-ff94-41da-a43a-efec7d132769"
   },
   "outputs": [
    {
     "data": {
      "text/plain": [
       "653"
      ]
     },
     "execution_count": 33,
     "metadata": {},
     "output_type": "execute_result"
    }
   ],
   "source": [
    "jumlah_minoritas_df_inggris = len(df_inggris[df_inggris['label'] == 1])\n",
    "jumlah_minoritas_df_inggris"
   ]
  },
  {
   "cell_type": "markdown",
   "id": "almaL2cGnU2W",
   "metadata": {
    "id": "almaL2cGnU2W"
   },
   "source": [
    "<a id=\"1\"></a>\n",
    "## <p style=\"background-color:#034C53;font-family:newtimeroman;color:#FFF9ED;font-size:110%;text-align:center;border-radius:10px 10px;\">DATASET SMS INDONESIA</p>"
   ]
  },
  {
   "cell_type": "code",
   "execution_count": 34,
   "id": "fGEcluQhoZNZ",
   "metadata": {
    "colab": {
     "base_uri": "https://localhost:8080/"
    },
    "executionInfo": {
     "elapsed": 25,
     "status": "ok",
     "timestamp": 1749107067623,
     "user": {
      "displayName": "Dims",
      "userId": "09243243935493582997"
     },
     "user_tz": -420
    },
    "id": "fGEcluQhoZNZ",
    "outputId": "9475aff0-8b13-45b9-f7b3-a006ca99e183"
   },
   "outputs": [
    {
     "data": {
      "text/html": [
       "<div>\n",
       "<style scoped>\n",
       "    .dataframe tbody tr th:only-of-type {\n",
       "        vertical-align: middle;\n",
       "    }\n",
       "\n",
       "    .dataframe tbody tr th {\n",
       "        vertical-align: top;\n",
       "    }\n",
       "\n",
       "    .dataframe thead th {\n",
       "        text-align: right;\n",
       "    }\n",
       "</style>\n",
       "<table border=\"1\" class=\"dataframe\">\n",
       "  <thead>\n",
       "    <tr style=\"text-align: right;\">\n",
       "      <th></th>\n",
       "      <th>label</th>\n",
       "      <th>Message</th>\n",
       "      <th>clean_Message</th>\n",
       "    </tr>\n",
       "  </thead>\n",
       "  <tbody>\n",
       "    <tr>\n",
       "      <th>2689</th>\n",
       "      <td>0</td>\n",
       "      <td>Ya.. dia benar-benar hebat .. Bhaji mengatakan...</td>\n",
       "      <td>ya benarbenar hebat bhaji kallis main kriket b...</td>\n",
       "    </tr>\n",
       "    <tr>\n",
       "      <th>1594</th>\n",
       "      <td>0</td>\n",
       "      <td>Saya tidak sabar untuk melihat Anda! Bagaimana...</td>\n",
       "      <td>sabar fotofoto guna</td>\n",
       "    </tr>\n",
       "    <tr>\n",
       "      <th>470</th>\n",
       "      <td>0</td>\n",
       "      <td>Dari pt gagas, pt ixindo, pt bima data pratama...</td>\n",
       "      <td>pt gagas pt ixindo pt bima data pratama sma su...</td>\n",
       "    </tr>\n",
       "    <tr>\n",
       "      <th>743</th>\n",
       "      <td>0</td>\n",
       "      <td>Pak, indeks nilai B gabisa diturunin lagi pak?...</td>\n",
       "      <td>indeks nilai bb diturunin kemaren lihat nilai ...</td>\n",
       "    </tr>\n",
       "    <tr>\n",
       "      <th>970</th>\n",
       "      <td>0</td>\n",
       "      <td>Aight maaf aku butuh sepuluh tahun untuk mandi...</td>\n",
       "      <td>aight maaf butuh puluh mandi rencana</td>\n",
       "    </tr>\n",
       "    <tr>\n",
       "      <th>...</th>\n",
       "      <td>...</td>\n",
       "      <td>...</td>\n",
       "      <td>...</td>\n",
       "    </tr>\n",
       "    <tr>\n",
       "      <th>2091</th>\n",
       "      <td>1</td>\n",
       "      <td>SWASTA! Laporan Rekening Anda Tahun 2003 untuk...</td>\n",
       "      <td>swasta lapor rekening</td>\n",
       "    </tr>\n",
       "    <tr>\n",
       "      <th>103</th>\n",
       "      <td>1</td>\n",
       "      <td>Kirim ke MANDIRI aja, a/n ARYA. rek: 131-000-7...</td>\n",
       "      <td>kirim mandiri an arya rek kabarin ya</td>\n",
       "    </tr>\n",
       "    <tr>\n",
       "      <th>1128</th>\n",
       "      <td>1</td>\n",
       "      <td>Congrats! Tiket bioskop khusus 1 tahun untuk 2...</td>\n",
       "      <td>ucap selamat tiket bioskop khusus orang milik ...</td>\n",
       "    </tr>\n",
       "    <tr>\n",
       "      <th>1126</th>\n",
       "      <td>1</td>\n",
       "      <td>gratis 4 STAR Ibiza Holiday atau uang tunai Â ...</td>\n",
       "      <td>gratis star ibiza holiday uang tunai butuh kol...</td>\n",
       "    </tr>\n",
       "    <tr>\n",
       "      <th>2522</th>\n",
       "      <td>1</td>\n",
       "      <td>Ingin funk up fone Anda dengan nada baru mingg...</td>\n",
       "      <td>funk up fone nada minggu balas tonesu teks asl...</td>\n",
       "    </tr>\n",
       "  </tbody>\n",
       "</table>\n",
       "<p>1306 rows × 3 columns</p>\n",
       "</div>"
      ],
      "text/plain": [
       "      label                                            Message  \\\n",
       "2689      0  Ya.. dia benar-benar hebat .. Bhaji mengatakan...   \n",
       "1594      0  Saya tidak sabar untuk melihat Anda! Bagaimana...   \n",
       "470       0  Dari pt gagas, pt ixindo, pt bima data pratama...   \n",
       "743       0  Pak, indeks nilai B gabisa diturunin lagi pak?...   \n",
       "970       0  Aight maaf aku butuh sepuluh tahun untuk mandi...   \n",
       "...     ...                                                ...   \n",
       "2091      1  SWASTA! Laporan Rekening Anda Tahun 2003 untuk...   \n",
       "103       1  Kirim ke MANDIRI aja, a/n ARYA. rek: 131-000-7...   \n",
       "1128      1  Congrats! Tiket bioskop khusus 1 tahun untuk 2...   \n",
       "1126      1  gratis 4 STAR Ibiza Holiday atau uang tunai Â ...   \n",
       "2522      1  Ingin funk up fone Anda dengan nada baru mingg...   \n",
       "\n",
       "                                          clean_Message  \n",
       "2689  ya benarbenar hebat bhaji kallis main kriket b...  \n",
       "1594                                sabar fotofoto guna  \n",
       "470   pt gagas pt ixindo pt bima data pratama sma su...  \n",
       "743   indeks nilai bb diturunin kemaren lihat nilai ...  \n",
       "970                aight maaf butuh puluh mandi rencana  \n",
       "...                                                 ...  \n",
       "2091                              swasta lapor rekening  \n",
       "103                kirim mandiri an arya rek kabarin ya  \n",
       "1128  ucap selamat tiket bioskop khusus orang milik ...  \n",
       "1126  gratis star ibiza holiday uang tunai butuh kol...  \n",
       "2522  funk up fone nada minggu balas tonesu teks asl...  \n",
       "\n",
       "[1306 rows x 3 columns]"
      ]
     },
     "execution_count": 34,
     "metadata": {},
     "output_type": "execute_result"
    }
   ],
   "source": [
    "df_indo_mayoritas = df_indo[df_indo['label'] == 0]\n",
    "df_indo_minoritas = df_indo[df_indo['label'] == 1]\n",
    "\n",
    "df_indo_minoritas_under = df_indo_minoritas.sample(n=jumlah_minoritas_df_inggris, random_state=42)\n",
    "df_indo_mayoritas_under = df_indo_mayoritas.sample(n=jumlah_minoritas_df_inggris, random_state=42)\n",
    "df_indo_balanced = pd.concat([df_indo_mayoritas_under, df_indo_minoritas_under])\n",
    "\n",
    "df_indo_balanced"
   ]
  },
  {
   "cell_type": "markdown",
   "id": "uVumy0XAupMK",
   "metadata": {
    "id": "uVumy0XAupMK"
   },
   "source": [
    "Cek jumlah akhir per kelas"
   ]
  },
  {
   "cell_type": "code",
   "execution_count": 35,
   "id": "ZtF4y1rZupMK",
   "metadata": {
    "colab": {
     "base_uri": "https://localhost:8080/"
    },
    "executionInfo": {
     "elapsed": 25,
     "status": "ok",
     "timestamp": 1749107067655,
     "user": {
      "displayName": "Dims",
      "userId": "09243243935493582997"
     },
     "user_tz": -420
    },
    "id": "ZtF4y1rZupMK",
    "outputId": "ce2a3a76-7969-45d7-c1c7-c16d22ed9205"
   },
   "outputs": [
    {
     "data": {
      "text/plain": [
       "label\n",
       "0    653\n",
       "1    653\n",
       "Name: count, dtype: int64"
      ]
     },
     "execution_count": 35,
     "metadata": {},
     "output_type": "execute_result"
    }
   ],
   "source": [
    "df_indo_balanced['label'].value_counts()"
   ]
  },
  {
   "cell_type": "markdown",
   "id": "ASqgPurcoiNJ",
   "metadata": {
    "id": "ASqgPurcoiNJ"
   },
   "source": [
    "<a id=\"1\"></a>\n",
    "## <p style=\"background-color:#034C53;font-family:newtimeroman;color:#FFF9ED;font-size:110%;text-align:center;border-radius:10px 10px;\">DATASET SMS INGGRIS</p>"
   ]
  },
  {
   "cell_type": "code",
   "execution_count": 36,
   "id": "Jhm9yy8am8xB",
   "metadata": {
    "colab": {
     "base_uri": "https://localhost:8080/"
    },
    "executionInfo": {
     "elapsed": 73,
     "status": "ok",
     "timestamp": 1749107067721,
     "user": {
      "displayName": "Dims",
      "userId": "09243243935493582997"
     },
     "user_tz": -420
    },
    "id": "Jhm9yy8am8xB",
    "outputId": "4020be1c-8fd3-4a3c-d221-c315e46a6771"
   },
   "outputs": [
    {
     "data": {
      "text/html": [
       "<div>\n",
       "<style scoped>\n",
       "    .dataframe tbody tr th:only-of-type {\n",
       "        vertical-align: middle;\n",
       "    }\n",
       "\n",
       "    .dataframe tbody tr th {\n",
       "        vertical-align: top;\n",
       "    }\n",
       "\n",
       "    .dataframe thead th {\n",
       "        text-align: right;\n",
       "    }\n",
       "</style>\n",
       "<table border=\"1\" class=\"dataframe\">\n",
       "  <thead>\n",
       "    <tr style=\"text-align: right;\">\n",
       "      <th></th>\n",
       "      <th>label</th>\n",
       "      <th>Message</th>\n",
       "      <th>clean_Message</th>\n",
       "    </tr>\n",
       "  </thead>\n",
       "  <tbody>\n",
       "    <tr>\n",
       "      <th>905</th>\n",
       "      <td>0</td>\n",
       "      <td>Actually i deleted my old website..now i m blo...</td>\n",
       "      <td>actual delet old websitenow blog magicalsongsb...</td>\n",
       "    </tr>\n",
       "    <tr>\n",
       "      <th>1506</th>\n",
       "      <td>0</td>\n",
       "      <td>Yeah we do totes. When u wanna?</td>\n",
       "      <td>yeah tote wanna</td>\n",
       "    </tr>\n",
       "    <tr>\n",
       "      <th>2566</th>\n",
       "      <td>0</td>\n",
       "      <td>I'm okay. Chasing the dream. What's good. What...</td>\n",
       "      <td>im okay chase dream what good next</td>\n",
       "    </tr>\n",
       "    <tr>\n",
       "      <th>1116</th>\n",
       "      <td>0</td>\n",
       "      <td>Really... I tot ur paper ended long ago... But...</td>\n",
       "      <td>realli tot paper end long ago wat copi ju got ...</td>\n",
       "    </tr>\n",
       "    <tr>\n",
       "      <th>3168</th>\n",
       "      <td>0</td>\n",
       "      <td>No problem baby. Is this is a good time to tal...</td>\n",
       "      <td>problem babi good time talk call left messag</td>\n",
       "    </tr>\n",
       "    <tr>\n",
       "      <th>...</th>\n",
       "      <td>...</td>\n",
       "      <td>...</td>\n",
       "      <td>...</td>\n",
       "    </tr>\n",
       "    <tr>\n",
       "      <th>5137</th>\n",
       "      <td>1</td>\n",
       "      <td>Want explicit SEX in 30 secs? Ring 02073162414...</td>\n",
       "      <td>want explicit sex sec ring cost pmin gsex pobo...</td>\n",
       "    </tr>\n",
       "    <tr>\n",
       "      <th>5139</th>\n",
       "      <td>1</td>\n",
       "      <td>ASKED 3MOBILE IF 0870 CHATLINES INCLU IN FREE ...</td>\n",
       "      <td>ask mobil chatlin inclu free min india cust se...</td>\n",
       "    </tr>\n",
       "    <tr>\n",
       "      <th>5146</th>\n",
       "      <td>1</td>\n",
       "      <td>Had your contract mobile 11 Mnths? Latest Moto...</td>\n",
       "      <td>contract mobil mnth latest motorola nokia etc ...</td>\n",
       "    </tr>\n",
       "    <tr>\n",
       "      <th>5163</th>\n",
       "      <td>1</td>\n",
       "      <td>REMINDER FROM O2: To get 2.50 pounds free call...</td>\n",
       "      <td>remind get pound free call credit detail great...</td>\n",
       "    </tr>\n",
       "    <tr>\n",
       "      <th>5164</th>\n",
       "      <td>1</td>\n",
       "      <td>This is the 2nd time we have tried 2 contact u...</td>\n",
       "      <td>nd time tri contact pound prize claim easi cal...</td>\n",
       "    </tr>\n",
       "  </tbody>\n",
       "</table>\n",
       "<p>1306 rows × 3 columns</p>\n",
       "</div>"
      ],
      "text/plain": [
       "      label                                            Message  \\\n",
       "905       0  Actually i deleted my old website..now i m blo...   \n",
       "1506      0                    Yeah we do totes. When u wanna?   \n",
       "2566      0  I'm okay. Chasing the dream. What's good. What...   \n",
       "1116      0  Really... I tot ur paper ended long ago... But...   \n",
       "3168      0  No problem baby. Is this is a good time to tal...   \n",
       "...     ...                                                ...   \n",
       "5137      1  Want explicit SEX in 30 secs? Ring 02073162414...   \n",
       "5139      1  ASKED 3MOBILE IF 0870 CHATLINES INCLU IN FREE ...   \n",
       "5146      1  Had your contract mobile 11 Mnths? Latest Moto...   \n",
       "5163      1  REMINDER FROM O2: To get 2.50 pounds free call...   \n",
       "5164      1  This is the 2nd time we have tried 2 contact u...   \n",
       "\n",
       "                                          clean_Message  \n",
       "905   actual delet old websitenow blog magicalsongsb...  \n",
       "1506                                    yeah tote wanna  \n",
       "2566                 im okay chase dream what good next  \n",
       "1116  realli tot paper end long ago wat copi ju got ...  \n",
       "3168       problem babi good time talk call left messag  \n",
       "...                                                 ...  \n",
       "5137  want explicit sex sec ring cost pmin gsex pobo...  \n",
       "5139  ask mobil chatlin inclu free min india cust se...  \n",
       "5146  contract mobil mnth latest motorola nokia etc ...  \n",
       "5163  remind get pound free call credit detail great...  \n",
       "5164  nd time tri contact pound prize claim easi cal...  \n",
       "\n",
       "[1306 rows x 3 columns]"
      ]
     },
     "execution_count": 36,
     "metadata": {},
     "output_type": "execute_result"
    }
   ],
   "source": [
    "df_inggris_mayoritas = df_inggris[df_inggris['label'] == 0]\n",
    "df_inggris_minoritas = df_inggris[df_inggris['label'] == 1]\n",
    "\n",
    "df_inggris_mayoritas_under = df_inggris_mayoritas.sample(n=jumlah_minoritas_df_inggris, random_state=42)\n",
    "df_inggris_balanced = pd.concat([df_inggris_mayoritas_under, df_inggris_minoritas])\n",
    "\n",
    "df_inggris_balanced"
   ]
  },
  {
   "cell_type": "markdown",
   "id": "gJppvz1EwrB6",
   "metadata": {
    "id": "gJppvz1EwrB6"
   },
   "source": [
    "Cek jumlah akhir per kelas"
   ]
  },
  {
   "cell_type": "code",
   "execution_count": 37,
   "id": "h5Fg17dawrB7",
   "metadata": {
    "colab": {
     "base_uri": "https://localhost:8080/"
    },
    "executionInfo": {
     "elapsed": 7,
     "status": "ok",
     "timestamp": 1749107067722,
     "user": {
      "displayName": "Dims",
      "userId": "09243243935493582997"
     },
     "user_tz": -420
    },
    "id": "h5Fg17dawrB7",
    "outputId": "7e294ed2-81ef-4a8e-d820-559e4c7d53a6"
   },
   "outputs": [
    {
     "data": {
      "text/plain": [
       "label\n",
       "0    653\n",
       "1    653\n",
       "Name: count, dtype: int64"
      ]
     },
     "execution_count": 37,
     "metadata": {},
     "output_type": "execute_result"
    }
   ],
   "source": [
    "df_inggris_balanced['label'].value_counts()"
   ]
  },
  {
   "cell_type": "markdown",
   "id": "_1jv7vkeo2hO",
   "metadata": {
    "id": "_1jv7vkeo2hO"
   },
   "source": [
    "<a id=\"1\"></a>\n",
    "## <p style=\"background-color:#034C53;font-family:newtimeroman;color:#FFF9ED;font-size:110%;text-align:center;border-radius:10px 10px;\">GABUNGKAN KEDUA DATASET</p>"
   ]
  },
  {
   "cell_type": "code",
   "execution_count": 38,
   "id": "VN-9KaLRo9up",
   "metadata": {
    "colab": {
     "base_uri": "https://localhost:8080/"
    },
    "executionInfo": {
     "elapsed": 85,
     "status": "ok",
     "timestamp": 1749107067803,
     "user": {
      "displayName": "Dims",
      "userId": "09243243935493582997"
     },
     "user_tz": -420
    },
    "id": "VN-9KaLRo9up",
    "outputId": "1d38b39b-007b-4cd2-a01c-ad851c270c58"
   },
   "outputs": [
    {
     "data": {
      "text/html": [
       "<div>\n",
       "<style scoped>\n",
       "    .dataframe tbody tr th:only-of-type {\n",
       "        vertical-align: middle;\n",
       "    }\n",
       "\n",
       "    .dataframe tbody tr th {\n",
       "        vertical-align: top;\n",
       "    }\n",
       "\n",
       "    .dataframe thead th {\n",
       "        text-align: right;\n",
       "    }\n",
       "</style>\n",
       "<table border=\"1\" class=\"dataframe\">\n",
       "  <thead>\n",
       "    <tr style=\"text-align: right;\">\n",
       "      <th></th>\n",
       "      <th>label</th>\n",
       "      <th>Message</th>\n",
       "      <th>clean_Message</th>\n",
       "    </tr>\n",
       "  </thead>\n",
       "  <tbody>\n",
       "    <tr>\n",
       "      <th>0</th>\n",
       "      <td>1</td>\n",
       "      <td>TSELpoin 777 kejutan POIN Hadiah Rp.15jt Resmi...</td>\n",
       "      <td>tselpoin kejut poin hadiah rpjt resmi xxxxx pi...</td>\n",
       "    </tr>\n",
       "    <tr>\n",
       "      <th>1</th>\n",
       "      <td>1</td>\n",
       "      <td>Anda telah dipilih untuk menginap di 1 dari 25...</td>\n",
       "      <td>pilih inap hotel top inggris less libur nila t...</td>\n",
       "    </tr>\n",
       "    <tr>\n",
       "      <th>2</th>\n",
       "      <td>0</td>\n",
       "      <td>Itu tidak apa-apa. Aku muncul untuk menanyakan...</td>\n",
       "      <td>apaapa muncul bilang kau masuk tonght wen gadis</td>\n",
       "    </tr>\n",
       "    <tr>\n",
       "      <th>3</th>\n",
       "      <td>0</td>\n",
       "      <td>Tomorrow i am not going to theatre. . . So i c...</td>\n",
       "      <td>tomorrow go theatr come wherev call tell come ...</td>\n",
       "    </tr>\n",
       "    <tr>\n",
       "      <th>4</th>\n",
       "      <td>1</td>\n",
       "      <td>FREE RING TONE just text \"POLYS\" to 87131. The...</td>\n",
       "      <td>free ring tone text poli everi week get new to...</td>\n",
       "    </tr>\n",
       "    <tr>\n",
       "      <th>...</th>\n",
       "      <td>...</td>\n",
       "      <td>...</td>\n",
       "      <td>...</td>\n",
       "    </tr>\n",
       "    <tr>\n",
       "      <th>2607</th>\n",
       "      <td>0</td>\n",
       "      <td>No way I'm going back there!</td>\n",
       "      <td>way im go back</td>\n",
       "    </tr>\n",
       "    <tr>\n",
       "      <th>2608</th>\n",
       "      <td>1</td>\n",
       "      <td>ISI PULSA lebih untung di MYVPLUS! selain dpt ...</td>\n",
       "      <td>isi pulsa untung myvplus pulsa lsg voucher dis...</td>\n",
       "    </tr>\n",
       "    <tr>\n",
       "      <th>2609</th>\n",
       "      <td>1</td>\n",
       "      <td>Anda dijamin Nokia Phone terbaru, 40GB iPod MP...</td>\n",
       "      <td>jamin nokia phone baru gb ipod mp player hadia...</td>\n",
       "    </tr>\n",
       "    <tr>\n",
       "      <th>2610</th>\n",
       "      <td>1</td>\n",
       "      <td>LAYANAN SMS. untuk kredit teks inklusif Anda, ...</td>\n",
       "      <td>layan sms kredit teks inklusif sila buka login...</td>\n",
       "    </tr>\n",
       "    <tr>\n",
       "      <th>2611</th>\n",
       "      <td>1</td>\n",
       "      <td>ma, isi dl pulsa 20 rb di nmr ini 085337784732</td>\n",
       "      <td>isi pulsa rb nomor</td>\n",
       "    </tr>\n",
       "  </tbody>\n",
       "</table>\n",
       "<p>2612 rows × 3 columns</p>\n",
       "</div>"
      ],
      "text/plain": [
       "      label                                            Message  \\\n",
       "0         1  TSELpoin 777 kejutan POIN Hadiah Rp.15jt Resmi...   \n",
       "1         1  Anda telah dipilih untuk menginap di 1 dari 25...   \n",
       "2         0  Itu tidak apa-apa. Aku muncul untuk menanyakan...   \n",
       "3         0  Tomorrow i am not going to theatre. . . So i c...   \n",
       "4         1  FREE RING TONE just text \"POLYS\" to 87131. The...   \n",
       "...     ...                                                ...   \n",
       "2607      0                       No way I'm going back there!   \n",
       "2608      1  ISI PULSA lebih untung di MYVPLUS! selain dpt ...   \n",
       "2609      1  Anda dijamin Nokia Phone terbaru, 40GB iPod MP...   \n",
       "2610      1  LAYANAN SMS. untuk kredit teks inklusif Anda, ...   \n",
       "2611      1     ma, isi dl pulsa 20 rb di nmr ini 085337784732   \n",
       "\n",
       "                                          clean_Message  \n",
       "0     tselpoin kejut poin hadiah rpjt resmi xxxxx pi...  \n",
       "1     pilih inap hotel top inggris less libur nila t...  \n",
       "2       apaapa muncul bilang kau masuk tonght wen gadis  \n",
       "3     tomorrow go theatr come wherev call tell come ...  \n",
       "4     free ring tone text poli everi week get new to...  \n",
       "...                                                 ...  \n",
       "2607                                     way im go back  \n",
       "2608  isi pulsa untung myvplus pulsa lsg voucher dis...  \n",
       "2609  jamin nokia phone baru gb ipod mp player hadia...  \n",
       "2610  layan sms kredit teks inklusif sila buka login...  \n",
       "2611                                 isi pulsa rb nomor  \n",
       "\n",
       "[2612 rows x 3 columns]"
      ]
     },
     "execution_count": 38,
     "metadata": {},
     "output_type": "execute_result"
    }
   ],
   "source": [
    "final_dataset = pd.concat([df_indo_balanced, df_inggris_balanced])\n",
    "\n",
    "# Shuffle dataset gabungan\n",
    "final_dataset = final_dataset.sample(frac=1, random_state=42).reset_index(drop=True)\n",
    "final_dataset"
   ]
  },
  {
   "cell_type": "markdown",
   "id": "_ANdfXXG0x80",
   "metadata": {
    "id": "_ANdfXXG0x80"
   },
   "source": [
    "Cek dan hapus missing value"
   ]
  },
  {
   "cell_type": "code",
   "execution_count": 39,
   "id": "vKj7e1-Z02OT",
   "metadata": {
    "colab": {
     "base_uri": "https://localhost:8080/"
    },
    "executionInfo": {
     "elapsed": 17,
     "status": "ok",
     "timestamp": 1749107067804,
     "user": {
      "displayName": "Dims",
      "userId": "09243243935493582997"
     },
     "user_tz": -420
    },
    "id": "vKj7e1-Z02OT",
    "outputId": "203aac26-dcbd-4309-f53b-40d8ec68fcbc"
   },
   "outputs": [
    {
     "name": "stdout",
     "output_type": "stream",
     "text": [
      "Missing value:\n",
      "\n",
      "label            0\n",
      "Message          0\n",
      "clean_Message    0\n",
      "dtype: int64\n",
      "\n",
      "telah berhasil dihapus\n"
     ]
    }
   ],
   "source": [
    "print(f'Missing value:\\n\\n{final_dataset.isna().sum()}')\n",
    "final_dataset = final_dataset.dropna()\n",
    "print('\\ntelah berhasil dihapus')"
   ]
  },
  {
   "cell_type": "markdown",
   "id": "_WS4X1oRs6_i",
   "metadata": {
    "id": "_WS4X1oRs6_i"
   },
   "source": [
    "Cek jumlah akhir per kelas"
   ]
  },
  {
   "cell_type": "code",
   "execution_count": 40,
   "id": "XufNOJuVqbOR",
   "metadata": {
    "colab": {
     "base_uri": "https://localhost:8080/"
    },
    "executionInfo": {
     "elapsed": 13,
     "status": "ok",
     "timestamp": 1749107067804,
     "user": {
      "displayName": "Dims",
      "userId": "09243243935493582997"
     },
     "user_tz": -420
    },
    "id": "XufNOJuVqbOR",
    "outputId": "e2e7f053-ba65-4665-bc8e-5b460e046ef5"
   },
   "outputs": [
    {
     "data": {
      "text/plain": [
       "label\n",
       "1    1306\n",
       "0    1306\n",
       "Name: count, dtype: int64"
      ]
     },
     "execution_count": 40,
     "metadata": {},
     "output_type": "execute_result"
    }
   ],
   "source": [
    "final_dataset['label'].value_counts()"
   ]
  },
  {
   "cell_type": "markdown",
   "id": "Rl6sss6Ts8Ji",
   "metadata": {
    "id": "Rl6sss6Ts8Ji"
   },
   "source": [
    "Simpan menjadi file csv"
   ]
  },
  {
   "cell_type": "code",
   "execution_count": 41,
   "id": "MlJlGh2Gs3Zs",
   "metadata": {
    "colab": {
     "base_uri": "https://localhost:8080/"
    },
    "executionInfo": {
     "elapsed": 54,
     "status": "ok",
     "timestamp": 1749107067855,
     "user": {
      "displayName": "Dims",
      "userId": "09243243935493582997"
     },
     "user_tz": -420
    },
    "id": "MlJlGh2Gs3Zs",
    "outputId": "4f73fd7c-7245-40e4-dbbd-2a292f4c6e8e"
   },
   "outputs": [
    {
     "name": "stdout",
     "output_type": "stream",
     "text": [
      "Data telah disimpan dalam ./dataset (undersampling-oversampling)/dataset_sms_undersampling.csv\n"
     ]
    }
   ],
   "source": [
    "final_dataset.to_csv('./dataset (undersampling-oversampling)/dataset_sms_undersampling.csv', index=False)\n",
    "print(\"Data telah disimpan dalam ./dataset (undersampling-oversampling)/dataset_sms_undersampling.csv\")"
   ]
  },
  {
   "cell_type": "markdown",
   "id": "rmAZKwmJy0oo",
   "metadata": {
    "id": "rmAZKwmJy0oo"
   },
   "source": [
    "<a id=\"1\"></a>\n",
    "# <p style=\"background-color:#034C53;font-family:newtimeroman;color:#FFF9ED;font-size:130%;text-align:center;border-radius:10px 10px;\">RANDOM OVERSAMPLING</p>"
   ]
  },
  {
   "cell_type": "markdown",
   "id": "HbSJ5kg-y0ou",
   "metadata": {
    "id": "HbSJ5kg-y0ou"
   },
   "source": [
    "Pakai kelas mayoritas di dataset bahasa inggris"
   ]
  },
  {
   "cell_type": "code",
   "execution_count": 42,
   "id": "sQyuc8jTy0ou",
   "metadata": {
    "colab": {
     "base_uri": "https://localhost:8080/"
    },
    "executionInfo": {
     "elapsed": 7,
     "status": "ok",
     "timestamp": 1749107067856,
     "user": {
      "displayName": "Dims",
      "userId": "09243243935493582997"
     },
     "user_tz": -420
    },
    "id": "sQyuc8jTy0ou",
    "outputId": "b510f77c-5559-413a-8c47-5bac9809b6fb"
   },
   "outputs": [
    {
     "data": {
      "text/plain": [
       "4507"
      ]
     },
     "execution_count": 42,
     "metadata": {},
     "output_type": "execute_result"
    }
   ],
   "source": [
    "jumlah_mayoritas_df_inggris = len(df_inggris[df_inggris['label'] == 0])\n",
    "jumlah_mayoritas_df_inggris"
   ]
  },
  {
   "cell_type": "markdown",
   "id": "4V865d09y0ov",
   "metadata": {
    "id": "4V865d09y0ov"
   },
   "source": [
    "<a id=\"1\"></a>\n",
    "## <p style=\"background-color:#034C53;font-family:newtimeroman;color:#FFF9ED;font-size:110%;text-align:center;border-radius:10px 10px;\">DATASET SMS INDONESIA</p>"
   ]
  },
  {
   "cell_type": "code",
   "execution_count": 43,
   "id": "G44bNFUby0ov",
   "metadata": {
    "colab": {
     "base_uri": "https://localhost:8080/"
    },
    "executionInfo": {
     "elapsed": 59,
     "status": "ok",
     "timestamp": 1749107067912,
     "user": {
      "displayName": "Dims",
      "userId": "09243243935493582997"
     },
     "user_tz": -420
    },
    "id": "G44bNFUby0ov",
    "outputId": "3a9ec46d-5f03-4e57-c76a-32246686ac3c"
   },
   "outputs": [
    {
     "data": {
      "text/html": [
       "<div>\n",
       "<style scoped>\n",
       "    .dataframe tbody tr th:only-of-type {\n",
       "        vertical-align: middle;\n",
       "    }\n",
       "\n",
       "    .dataframe tbody tr th {\n",
       "        vertical-align: top;\n",
       "    }\n",
       "\n",
       "    .dataframe thead th {\n",
       "        text-align: right;\n",
       "    }\n",
       "</style>\n",
       "<table border=\"1\" class=\"dataframe\">\n",
       "  <thead>\n",
       "    <tr style=\"text-align: right;\">\n",
       "      <th></th>\n",
       "      <th>label</th>\n",
       "      <th>Message</th>\n",
       "      <th>clean_Message</th>\n",
       "    </tr>\n",
       "  </thead>\n",
       "  <tbody>\n",
       "    <tr>\n",
       "      <th>1740</th>\n",
       "      <td>0</td>\n",
       "      <td>Apakah kertas Anda di e morn atau buritan tmr?</td>\n",
       "      <td>kertas e morn burit tmr</td>\n",
       "    </tr>\n",
       "    <tr>\n",
       "      <th>2177</th>\n",
       "      <td>0</td>\n",
       "      <td>Senyum dalam Kesenangan Senyum dalam Kesakitan...</td>\n",
       "      <td>senyum senang senyum sakit senyum alir rain sm...</td>\n",
       "    </tr>\n",
       "    <tr>\n",
       "      <th>1433</th>\n",
       "      <td>0</td>\n",
       "      <td>Selamat tahun baru saudaraku tersayang. Aku be...</td>\n",
       "      <td>selamat saudara sayang benarbenar rindu nomor ...</td>\n",
       "    </tr>\n",
       "    <tr>\n",
       "      <th>1944</th>\n",
       "      <td>0</td>\n",
       "      <td>Tidak, ibuku pergi ke 2 dokter gigi.</td>\n",
       "      <td>ibu pergi dokter gigi</td>\n",
       "    </tr>\n",
       "    <tr>\n",
       "      <th>1744</th>\n",
       "      <td>0</td>\n",
       "      <td>Ia melakukannya sendiri. Sebagian besar waktu ...</td>\n",
       "      <td>laku baik eja terkadang beda pergi sosok</td>\n",
       "    </tr>\n",
       "    <tr>\n",
       "      <th>...</th>\n",
       "      <td>...</td>\n",
       "      <td>...</td>\n",
       "      <td>...</td>\n",
       "    </tr>\n",
       "    <tr>\n",
       "      <th>194</th>\n",
       "      <td>1</td>\n",
       "      <td>Pesta m-tronik Anda sebagai Pelanggan setia m-...</td>\n",
       "      <td>pesta mtronik langgan setia mtronik pilih mena...</td>\n",
       "    </tr>\n",
       "    <tr>\n",
       "      <th>155</th>\n",
       "      <td>1</td>\n",
       "      <td>Pelanggan yth, Anda mendapatkan hadiah ke (2) ...</td>\n",
       "      <td>langgan hormat hadiah poin plus plus indosat p...</td>\n",
       "    </tr>\n",
       "    <tr>\n",
       "      <th>171</th>\n",
       "      <td>1</td>\n",
       "      <td>Permintaan Anda akan segera kami proses untuk ...</td>\n",
       "      <td>minta proses kunci reg gita layan pt hypermind</td>\n",
       "    </tr>\n",
       "    <tr>\n",
       "      <th>2479</th>\n",
       "      <td>1</td>\n",
       "      <td>MENDESAK! Kami mencoba menghubungi Anda. Undia...</td>\n",
       "      <td>desak coba hubung undi pekan menang hadiah jam...</td>\n",
       "    </tr>\n",
       "    <tr>\n",
       "      <th>40</th>\n",
       "      <td>1</td>\n",
       "      <td>Dapatkan Segera TIKET Murah &amp; Promo DiTRAVEL K...</td>\n",
       "      <td>dapat tiket murah promo ditravel kmiuntuk terb...</td>\n",
       "    </tr>\n",
       "  </tbody>\n",
       "</table>\n",
       "<p>9014 rows × 3 columns</p>\n",
       "</div>"
      ],
      "text/plain": [
       "      label                                            Message  \\\n",
       "1740      0     Apakah kertas Anda di e morn atau buritan tmr?   \n",
       "2177      0  Senyum dalam Kesenangan Senyum dalam Kesakitan...   \n",
       "1433      0  Selamat tahun baru saudaraku tersayang. Aku be...   \n",
       "1944      0               Tidak, ibuku pergi ke 2 dokter gigi.   \n",
       "1744      0  Ia melakukannya sendiri. Sebagian besar waktu ...   \n",
       "...     ...                                                ...   \n",
       "194       1  Pesta m-tronik Anda sebagai Pelanggan setia m-...   \n",
       "155       1  Pelanggan yth, Anda mendapatkan hadiah ke (2) ...   \n",
       "171       1  Permintaan Anda akan segera kami proses untuk ...   \n",
       "2479      1  MENDESAK! Kami mencoba menghubungi Anda. Undia...   \n",
       "40        1  Dapatkan Segera TIKET Murah & Promo DiTRAVEL K...   \n",
       "\n",
       "                                          clean_Message  \n",
       "1740                            kertas e morn burit tmr  \n",
       "2177  senyum senang senyum sakit senyum alir rain sm...  \n",
       "1433  selamat saudara sayang benarbenar rindu nomor ...  \n",
       "1944                              ibu pergi dokter gigi  \n",
       "1744           laku baik eja terkadang beda pergi sosok  \n",
       "...                                                 ...  \n",
       "194   pesta mtronik langgan setia mtronik pilih mena...  \n",
       "155   langgan hormat hadiah poin plus plus indosat p...  \n",
       "171      minta proses kunci reg gita layan pt hypermind  \n",
       "2479  desak coba hubung undi pekan menang hadiah jam...  \n",
       "40    dapat tiket murah promo ditravel kmiuntuk terb...  \n",
       "\n",
       "[9014 rows x 3 columns]"
      ]
     },
     "execution_count": 43,
     "metadata": {},
     "output_type": "execute_result"
    }
   ],
   "source": [
    "df_indo_mayoritas = df_indo[df_indo['label'] == 0]\n",
    "df_indo_minoritas = df_indo[df_indo['label'] == 1]\n",
    "\n",
    "df_indo_minoritas_over = df_indo_minoritas.sample(n=jumlah_mayoritas_df_inggris, random_state=42, replace=True)\n",
    "df_indo_mayoritas_over = df_indo_mayoritas.sample(n=jumlah_mayoritas_df_inggris, random_state=42, replace=True)\n",
    "df_indo_balanced = pd.concat([df_indo_mayoritas_over, df_indo_minoritas_over])\n",
    "\n",
    "df_indo_balanced"
   ]
  },
  {
   "cell_type": "markdown",
   "id": "6ENeH7UEy0ov",
   "metadata": {
    "id": "6ENeH7UEy0ov"
   },
   "source": [
    "Cek jumlah akhir per kelas"
   ]
  },
  {
   "cell_type": "code",
   "execution_count": 44,
   "id": "sFulsioBy0ov",
   "metadata": {
    "colab": {
     "base_uri": "https://localhost:8080/"
    },
    "executionInfo": {
     "elapsed": 55,
     "status": "ok",
     "timestamp": 1749107067968,
     "user": {
      "displayName": "Dims",
      "userId": "09243243935493582997"
     },
     "user_tz": -420
    },
    "id": "sFulsioBy0ov",
    "outputId": "94da744e-d5b9-4cd6-98b2-c49a8b902f5e"
   },
   "outputs": [
    {
     "data": {
      "text/plain": [
       "label\n",
       "0    4507\n",
       "1    4507\n",
       "Name: count, dtype: int64"
      ]
     },
     "execution_count": 44,
     "metadata": {},
     "output_type": "execute_result"
    }
   ],
   "source": [
    "df_indo_balanced['label'].value_counts()"
   ]
  },
  {
   "cell_type": "markdown",
   "id": "ItUbrPTqy0ov",
   "metadata": {
    "id": "ItUbrPTqy0ov"
   },
   "source": [
    "<a id=\"1\"></a>\n",
    "## <p style=\"background-color:#034C53;font-family:newtimeroman;color:#FFF9ED;font-size:110%;text-align:center;border-radius:10px 10px;\">DATASET SMS INGGRIS</p>"
   ]
  },
  {
   "cell_type": "code",
   "execution_count": 45,
   "id": "60serVA4y0ow",
   "metadata": {
    "colab": {
     "base_uri": "https://localhost:8080/"
    },
    "executionInfo": {
     "elapsed": 36,
     "status": "ok",
     "timestamp": 1749107068001,
     "user": {
      "displayName": "Dims",
      "userId": "09243243935493582997"
     },
     "user_tz": -420
    },
    "id": "60serVA4y0ow",
    "outputId": "c6eee5b9-1b97-4dd8-d207-58a837178dcb"
   },
   "outputs": [
    {
     "data": {
      "text/html": [
       "<div>\n",
       "<style scoped>\n",
       "    .dataframe tbody tr th:only-of-type {\n",
       "        vertical-align: middle;\n",
       "    }\n",
       "\n",
       "    .dataframe tbody tr th {\n",
       "        vertical-align: top;\n",
       "    }\n",
       "\n",
       "    .dataframe thead th {\n",
       "        text-align: right;\n",
       "    }\n",
       "</style>\n",
       "<table border=\"1\" class=\"dataframe\">\n",
       "  <thead>\n",
       "    <tr style=\"text-align: right;\">\n",
       "      <th></th>\n",
       "      <th>label</th>\n",
       "      <th>Message</th>\n",
       "      <th>clean_Message</th>\n",
       "    </tr>\n",
       "  </thead>\n",
       "  <tbody>\n",
       "    <tr>\n",
       "      <th>705</th>\n",
       "      <td>1</td>\n",
       "      <td>+449071512431 URGENT! This is the 2nd attempt ...</td>\n",
       "      <td>urgent nd attempt contact uu call b tcsbcmwcnx...</td>\n",
       "    </tr>\n",
       "    <tr>\n",
       "      <th>3360</th>\n",
       "      <td>1</td>\n",
       "      <td>URGENT! We are trying to contact U Todays draw...</td>\n",
       "      <td>urgent tri contact today draw show prize guara...</td>\n",
       "    </tr>\n",
       "    <tr>\n",
       "      <th>1928</th>\n",
       "      <td>1</td>\n",
       "      <td>TheMob&gt;Yo yo yo-Here comes a new selection of ...</td>\n",
       "      <td>themobyo yo yoher come new select hot download...</td>\n",
       "    </tr>\n",
       "    <tr>\n",
       "      <th>736</th>\n",
       "      <td>1</td>\n",
       "      <td>U are subscribed to the best Mobile Content Se...</td>\n",
       "      <td>subscrib best mobil content servic uk per day ...</td>\n",
       "    </tr>\n",
       "    <tr>\n",
       "      <th>507</th>\n",
       "      <td>1</td>\n",
       "      <td>You are guaranteed the latest Nokia Phone, a 4...</td>\n",
       "      <td>guarante latest nokia phone gb ipod mp player ...</td>\n",
       "    </tr>\n",
       "    <tr>\n",
       "      <th>...</th>\n",
       "      <td>...</td>\n",
       "      <td>...</td>\n",
       "      <td>...</td>\n",
       "    </tr>\n",
       "    <tr>\n",
       "      <th>5162</th>\n",
       "      <td>0</td>\n",
       "      <td>Huh y lei...</td>\n",
       "      <td>huh lei</td>\n",
       "    </tr>\n",
       "    <tr>\n",
       "      <th>5165</th>\n",
       "      <td>0</td>\n",
       "      <td>Will ü b going to esplanade fr home?</td>\n",
       "      <td>ü b go esplanad fr home</td>\n",
       "    </tr>\n",
       "    <tr>\n",
       "      <th>5166</th>\n",
       "      <td>0</td>\n",
       "      <td>Pity, * was in mood for that. So...any other s...</td>\n",
       "      <td>piti mood soani suggest</td>\n",
       "    </tr>\n",
       "    <tr>\n",
       "      <th>5167</th>\n",
       "      <td>0</td>\n",
       "      <td>The guy did some bitching but I acted like i'd...</td>\n",
       "      <td>guy bitch act like id interest buy someth els ...</td>\n",
       "    </tr>\n",
       "    <tr>\n",
       "      <th>5168</th>\n",
       "      <td>0</td>\n",
       "      <td>Rofl. Its true to its name</td>\n",
       "      <td>roll floor laugh true name</td>\n",
       "    </tr>\n",
       "  </tbody>\n",
       "</table>\n",
       "<p>9014 rows × 3 columns</p>\n",
       "</div>"
      ],
      "text/plain": [
       "      label                                            Message  \\\n",
       "705       1  +449071512431 URGENT! This is the 2nd attempt ...   \n",
       "3360      1  URGENT! We are trying to contact U Todays draw...   \n",
       "1928      1  TheMob>Yo yo yo-Here comes a new selection of ...   \n",
       "736       1  U are subscribed to the best Mobile Content Se...   \n",
       "507       1  You are guaranteed the latest Nokia Phone, a 4...   \n",
       "...     ...                                                ...   \n",
       "5162      0                                       Huh y lei...   \n",
       "5165      0               Will ü b going to esplanade fr home?   \n",
       "5166      0  Pity, * was in mood for that. So...any other s...   \n",
       "5167      0  The guy did some bitching but I acted like i'd...   \n",
       "5168      0                         Rofl. Its true to its name   \n",
       "\n",
       "                                          clean_Message  \n",
       "705   urgent nd attempt contact uu call b tcsbcmwcnx...  \n",
       "3360  urgent tri contact today draw show prize guara...  \n",
       "1928  themobyo yo yoher come new select hot download...  \n",
       "736   subscrib best mobil content servic uk per day ...  \n",
       "507   guarante latest nokia phone gb ipod mp player ...  \n",
       "...                                                 ...  \n",
       "5162                                            huh lei  \n",
       "5165                            ü b go esplanad fr home  \n",
       "5166                            piti mood soani suggest  \n",
       "5167  guy bitch act like id interest buy someth els ...  \n",
       "5168                         roll floor laugh true name  \n",
       "\n",
       "[9014 rows x 3 columns]"
      ]
     },
     "execution_count": 45,
     "metadata": {},
     "output_type": "execute_result"
    }
   ],
   "source": [
    "df_inggris_mayoritas = df_inggris[df_inggris['label'] == 0]\n",
    "df_inggris_minoritas = df_inggris[df_inggris['label'] == 1]\n",
    "\n",
    "df_inggris_minoritas_over = df_inggris_minoritas.sample(n=jumlah_mayoritas_df_inggris, random_state=42, replace=True)\n",
    "df_inggris_balanced = pd.concat([df_inggris_minoritas_over, df_inggris_mayoritas])\n",
    "\n",
    "df_inggris_balanced"
   ]
  },
  {
   "cell_type": "markdown",
   "id": "v0g-qyFly0ow",
   "metadata": {
    "id": "v0g-qyFly0ow"
   },
   "source": [
    "Cek jumlah akhir per kelas"
   ]
  },
  {
   "cell_type": "code",
   "execution_count": 46,
   "id": "1-rWLCVRy0ow",
   "metadata": {
    "colab": {
     "base_uri": "https://localhost:8080/"
    },
    "executionInfo": {
     "elapsed": 46,
     "status": "ok",
     "timestamp": 1749107068048,
     "user": {
      "displayName": "Dims",
      "userId": "09243243935493582997"
     },
     "user_tz": -420
    },
    "id": "1-rWLCVRy0ow",
    "outputId": "1d373e1c-b5cf-4149-b43f-598232bb3d73"
   },
   "outputs": [
    {
     "data": {
      "text/plain": [
       "label\n",
       "1    4507\n",
       "0    4507\n",
       "Name: count, dtype: int64"
      ]
     },
     "execution_count": 46,
     "metadata": {},
     "output_type": "execute_result"
    }
   ],
   "source": [
    "df_inggris_balanced['label'].value_counts()"
   ]
  },
  {
   "cell_type": "markdown",
   "id": "CdGHZaUXy0ox",
   "metadata": {
    "id": "CdGHZaUXy0ox"
   },
   "source": [
    "<a id=\"1\"></a>\n",
    "## <p style=\"background-color:#034C53;font-family:newtimeroman;color:#FFF9ED;font-size:110%;text-align:center;border-radius:10px 10px;\">GABUNGKAN KEDUA DATASET</p>"
   ]
  },
  {
   "cell_type": "code",
   "execution_count": 47,
   "id": "lRnhz0aWy0ox",
   "metadata": {
    "colab": {
     "base_uri": "https://localhost:8080/"
    },
    "executionInfo": {
     "elapsed": 70,
     "status": "ok",
     "timestamp": 1749107068114,
     "user": {
      "displayName": "Dims",
      "userId": "09243243935493582997"
     },
     "user_tz": -420
    },
    "id": "lRnhz0aWy0ox",
    "outputId": "7c0e565a-1b32-4bb1-a163-fdd4587270b4"
   },
   "outputs": [
    {
     "data": {
      "text/html": [
       "<div>\n",
       "<style scoped>\n",
       "    .dataframe tbody tr th:only-of-type {\n",
       "        vertical-align: middle;\n",
       "    }\n",
       "\n",
       "    .dataframe tbody tr th {\n",
       "        vertical-align: top;\n",
       "    }\n",
       "\n",
       "    .dataframe thead th {\n",
       "        text-align: right;\n",
       "    }\n",
       "</style>\n",
       "<table border=\"1\" class=\"dataframe\">\n",
       "  <thead>\n",
       "    <tr style=\"text-align: right;\">\n",
       "      <th></th>\n",
       "      <th>label</th>\n",
       "      <th>Message</th>\n",
       "      <th>clean_Message</th>\n",
       "    </tr>\n",
       "  </thead>\n",
       "  <tbody>\n",
       "    <tr>\n",
       "      <th>0</th>\n",
       "      <td>0</td>\n",
       "      <td>Oh... Icic... K lor, den bertemu tempo hari ...</td>\n",
       "      <td>oh icic k lor den temu tempo</td>\n",
       "    </tr>\n",
       "    <tr>\n",
       "      <th>1</th>\n",
       "      <td>1</td>\n",
       "      <td>4mths setengah harga sewa garis oranye &amp; ponse...</td>\n",
       "      <td>mths harga sewa garis oranye ponsel kamera bar...</td>\n",
       "    </tr>\n",
       "    <tr>\n",
       "      <th>2</th>\n",
       "      <td>0</td>\n",
       "      <td>Ubah lagi... Ini e satu di sebelah eskalator ...</td>\n",
       "      <td>ubah e belah eskalator</td>\n",
       "    </tr>\n",
       "    <tr>\n",
       "      <th>3</th>\n",
       "      <td>1</td>\n",
       "      <td>MENDESAK! Nomor Ponsel Anda telah dianugerahi ...</td>\n",
       "      <td>desak nomor ponsel anugerah hadiah ukp jamin h...</td>\n",
       "    </tr>\n",
       "    <tr>\n",
       "      <th>4</th>\n",
       "      <td>0</td>\n",
       "      <td>Have you been practising your curtsey?</td>\n",
       "      <td>practis curtsey</td>\n",
       "    </tr>\n",
       "    <tr>\n",
       "      <th>...</th>\n",
       "      <td>...</td>\n",
       "      <td>...</td>\n",
       "      <td>...</td>\n",
       "    </tr>\n",
       "    <tr>\n",
       "      <th>18023</th>\n",
       "      <td>1</td>\n",
       "      <td>Customer service announcement. We recently tri...</td>\n",
       "      <td>custom servic announc recent tri make deliveri...</td>\n",
       "    </tr>\n",
       "    <tr>\n",
       "      <th>18024</th>\n",
       "      <td>1</td>\n",
       "      <td>Freemsg: 1-month unlimited free calls! Activat...</td>\n",
       "      <td>freemsg month unlimit free call activ smartcal...</td>\n",
       "    </tr>\n",
       "    <tr>\n",
       "      <th>18025</th>\n",
       "      <td>1</td>\n",
       "      <td>Gratis msg. Maaf, layanan yang Anda pesan dari...</td>\n",
       "      <td>gratis maaf layan pesan kirim milik kredit sil...</td>\n",
       "    </tr>\n",
       "    <tr>\n",
       "      <th>18026</th>\n",
       "      <td>0</td>\n",
       "      <td>Terima kasih atas harapan yang indah. Anda rock</td>\n",
       "      <td>terima kasih harap indah rock</td>\n",
       "    </tr>\n",
       "    <tr>\n",
       "      <th>18027</th>\n",
       "      <td>0</td>\n",
       "      <td>We r outside already.</td>\n",
       "      <td>outsid alreadi</td>\n",
       "    </tr>\n",
       "  </tbody>\n",
       "</table>\n",
       "<p>18028 rows × 3 columns</p>\n",
       "</div>"
      ],
      "text/plain": [
       "       label                                            Message  \\\n",
       "0          0    Oh... Icic... K lor, den bertemu tempo hari ...   \n",
       "1          1  4mths setengah harga sewa garis oranye & ponse...   \n",
       "2          0   Ubah lagi... Ini e satu di sebelah eskalator ...   \n",
       "3          1  MENDESAK! Nomor Ponsel Anda telah dianugerahi ...   \n",
       "4          0             Have you been practising your curtsey?   \n",
       "...      ...                                                ...   \n",
       "18023      1  Customer service announcement. We recently tri...   \n",
       "18024      1  Freemsg: 1-month unlimited free calls! Activat...   \n",
       "18025      1  Gratis msg. Maaf, layanan yang Anda pesan dari...   \n",
       "18026      0    Terima kasih atas harapan yang indah. Anda rock   \n",
       "18027      0                              We r outside already.   \n",
       "\n",
       "                                           clean_Message  \n",
       "0                           oh icic k lor den temu tempo  \n",
       "1      mths harga sewa garis oranye ponsel kamera bar...  \n",
       "2                                 ubah e belah eskalator  \n",
       "3      desak nomor ponsel anugerah hadiah ukp jamin h...  \n",
       "4                                        practis curtsey  \n",
       "...                                                  ...  \n",
       "18023  custom servic announc recent tri make deliveri...  \n",
       "18024  freemsg month unlimit free call activ smartcal...  \n",
       "18025  gratis maaf layan pesan kirim milik kredit sil...  \n",
       "18026                      terima kasih harap indah rock  \n",
       "18027                                     outsid alreadi  \n",
       "\n",
       "[18028 rows x 3 columns]"
      ]
     },
     "execution_count": 47,
     "metadata": {},
     "output_type": "execute_result"
    }
   ],
   "source": [
    "final_dataset = pd.concat([df_indo_balanced, df_inggris_balanced])\n",
    "\n",
    "# Shuffle dataset gabungan\n",
    "final_dataset = final_dataset.sample(frac=1, random_state=42).reset_index(drop=True)\n",
    "final_dataset"
   ]
  },
  {
   "cell_type": "markdown",
   "id": "XA5wuTCG08Hv",
   "metadata": {
    "id": "XA5wuTCG08Hv"
   },
   "source": [
    "Cek dan hapus missing value"
   ]
  },
  {
   "cell_type": "code",
   "execution_count": 48,
   "id": "Zaoy3MC708Hw",
   "metadata": {
    "colab": {
     "base_uri": "https://localhost:8080/"
    },
    "executionInfo": {
     "elapsed": 5,
     "status": "ok",
     "timestamp": 1749107068117,
     "user": {
      "displayName": "Dims",
      "userId": "09243243935493582997"
     },
     "user_tz": -420
    },
    "id": "Zaoy3MC708Hw",
    "outputId": "8b40da21-4d24-4a90-f311-9717c882fefb"
   },
   "outputs": [
    {
     "name": "stdout",
     "output_type": "stream",
     "text": [
      "Missing value:\n",
      "\n",
      "label            0\n",
      "Message          0\n",
      "clean_Message    0\n",
      "dtype: int64\n",
      "\n",
      "telah berhasil dihapus\n"
     ]
    }
   ],
   "source": [
    "print(f'Missing value:\\n\\n{final_dataset.isna().sum()}')\n",
    "final_dataset = final_dataset.dropna()\n",
    "print('\\ntelah berhasil dihapus')"
   ]
  },
  {
   "cell_type": "markdown",
   "id": "7dxolnCsy0ox",
   "metadata": {
    "id": "7dxolnCsy0ox"
   },
   "source": [
    "Cek jumlah akhir per kelas"
   ]
  },
  {
   "cell_type": "code",
   "execution_count": 49,
   "id": "WfjxKu1Jy0ox",
   "metadata": {
    "colab": {
     "base_uri": "https://localhost:8080/"
    },
    "executionInfo": {
     "elapsed": 7,
     "status": "ok",
     "timestamp": 1749107068158,
     "user": {
      "displayName": "Dims",
      "userId": "09243243935493582997"
     },
     "user_tz": -420
    },
    "id": "WfjxKu1Jy0ox",
    "outputId": "dbec986e-cd60-44f7-83eb-0f196fd77011"
   },
   "outputs": [
    {
     "data": {
      "text/plain": [
       "label\n",
       "0    9014\n",
       "1    9014\n",
       "Name: count, dtype: int64"
      ]
     },
     "execution_count": 49,
     "metadata": {},
     "output_type": "execute_result"
    }
   ],
   "source": [
    "final_dataset['label'].value_counts()"
   ]
  },
  {
   "cell_type": "markdown",
   "id": "pF9qdnF3y0ox",
   "metadata": {
    "id": "pF9qdnF3y0ox"
   },
   "source": [
    "Simpan menjadi file csv"
   ]
  },
  {
   "cell_type": "code",
   "execution_count": 50,
   "id": "zDyuq2k8y0ox",
   "metadata": {
    "colab": {
     "base_uri": "https://localhost:8080/"
    },
    "executionInfo": {
     "elapsed": 521,
     "status": "ok",
     "timestamp": 1749107068676,
     "user": {
      "displayName": "Dims",
      "userId": "09243243935493582997"
     },
     "user_tz": -420
    },
    "id": "zDyuq2k8y0ox",
    "outputId": "4f191c54-d349-4261-ff0a-ecdb5aea6c47"
   },
   "outputs": [
    {
     "name": "stdout",
     "output_type": "stream",
     "text": [
      "Data telah disimpan dalam ./dataset (undersampling-oversampling)/dataset_sms_oversampling.csv\n"
     ]
    }
   ],
   "source": [
    "final_dataset.to_csv('./dataset (undersampling-oversampling)/dataset_sms_oversampling.csv', index=False)\n",
    "print(\"Data telah disimpan dalam ./dataset (undersampling-oversampling)/dataset_sms_oversampling.csv\")"
   ]
  }
 ],
 "metadata": {
  "colab": {
   "collapsed_sections": [
    "7fc4deb3",
    "zA265fum3r6h",
    "lPlZr3595sHb",
    "iOBfTgl1mwUD",
    "almaL2cGnU2W",
    "ASqgPurcoiNJ",
    "_1jv7vkeo2hO",
    "4V865d09y0ov",
    "ItUbrPTqy0ov",
    "CdGHZaUXy0ox"
   ],
   "provenance": []
  },
  "kernelspec": {
   "display_name": ".venv",
   "language": "python",
   "name": "python3"
  },
  "language_info": {
   "codemirror_mode": {
    "name": "ipython",
    "version": 3
   },
   "file_extension": ".py",
   "mimetype": "text/x-python",
   "name": "python",
   "nbconvert_exporter": "python",
   "pygments_lexer": "ipython3",
   "version": "3.12.5"
  }
 },
 "nbformat": 4,
 "nbformat_minor": 5
}
